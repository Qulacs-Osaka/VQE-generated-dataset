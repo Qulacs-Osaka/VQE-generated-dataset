{
 "cells": [
  {
   "metadata": {},
   "cell_type": "markdown",
   "source": [
    "# 何らかのタイトル\n",
    "TODO: 説明を加える"
   ]
  },
  {
   "metadata": {
    "ExecuteTime": {
     "end_time": "2024-10-15T05:13:34.030352Z",
     "start_time": "2024-10-15T05:13:34.022973Z"
    }
   },
   "cell_type": "code",
   "source": [
    "import os\n",
    "import pickle\n",
    "import random\n",
    "\n",
    "import matplotlib.pyplot as plt\n",
    "import numpy as np\n",
    "import torch\n",
    "import torch.nn.functional as F\n",
    "from sklearn.model_selection import KFold\n",
    "from torch.nn import BatchNorm1d\n",
    "from torch.nn import Linear\n",
    "from torch.nn.functional import relu, dropout\n",
    "from torch.optim.lr_scheduler import StepLR\n",
    "from torch_geometric.data import DataLoader\n",
    "from torch_geometric.nn import GATConv\n",
    "from torch_geometric.nn import GCNConv, global_mean_pool\n",
    "from torch_geometric.nn import GINConv, global_add_pool\n",
    "from torch_geometric.nn import SAGEConv"
   ],
   "outputs": [],
   "execution_count": 15
  },
  {
   "metadata": {
    "ExecuteTime": {
     "end_time": "2024-10-15T05:08:29.580376Z",
     "start_time": "2024-10-15T05:08:29.440197Z"
    }
   },
   "cell_type": "code",
   "source": [
    "from accelerate import Accelerator\n",
    "\n",
    "accelerator = Accelerator()  "
   ],
   "outputs": [],
   "execution_count": 2
  },
  {
   "metadata": {
    "ExecuteTime": {
     "end_time": "2024-10-15T05:08:29.674468Z",
     "start_time": "2024-10-15T05:08:29.672518Z"
    }
   },
   "cell_type": "code",
   "source": "device = torch.device('cuda' if torch.cuda.is_available() else 'cpu')",
   "outputs": [],
   "execution_count": 3
  },
  {
   "metadata": {},
   "cell_type": "code",
   "outputs": [],
   "execution_count": null,
   "source": [
    "import joblib\n",
    "# Where to store the trained models\n",
    "save_root_dir = \"trained_data\"\n",
    "if not os.path.exists(save_root_dir):\n",
    "    os.makedirs(save_root_dir)"
   ]
  },
  {
   "metadata": {
    "ExecuteTime": {
     "end_time": "2024-10-15T05:08:29.957469Z",
     "start_time": "2024-10-15T05:08:29.950006Z"
    }
   },
   "cell_type": "code",
   "source": [
    "# Set seeds\n",
    "random.seed(0)\n",
    "np.random.seed(0)\n",
    "torch.manual_seed(0)"
   ],
   "outputs": [
    {
     "data": {
      "text/plain": [
       "<torch._C.Generator at 0x128614110>"
      ]
     },
     "execution_count": 4,
     "metadata": {},
     "output_type": "execute_result"
    }
   ],
   "execution_count": 4
  },
  {
   "metadata": {
    "ExecuteTime": {
     "end_time": "2024-10-15T05:08:30.358783Z",
     "start_time": "2024-10-15T05:08:30.357135Z"
    }
   },
   "cell_type": "code",
   "source": [
    "# Replace with the actual number of qubits\n",
    "num_qubits = 8"
   ],
   "outputs": [],
   "execution_count": 5
  },
  {
   "metadata": {
    "ExecuteTime": {
     "end_time": "2024-10-15T05:08:30.621683Z",
     "start_time": "2024-10-15T05:08:30.618599Z"
    }
   },
   "cell_type": "code",
   "source": [
    "def load_and_shuffle_dataset():\n",
    "    start_dir = f\"./processed/{str(num_qubits).zfill(2)}_qubits\"\n",
    "    graphs = []\n",
    "    for graph in os.listdir(start_dir):\n",
    "        graphs.append(torch.load(start_dir + \"/\" + graph))\n",
    "    random.shuffle(graphs)\n",
    "\n",
    "    return graphs"
   ],
   "outputs": [],
   "execution_count": 6
  },
  {
   "cell_type": "code",
   "metadata": {
    "ExecuteTime": {
     "end_time": "2024-10-15T05:08:32.349273Z",
     "start_time": "2024-10-15T05:08:31.064055Z"
    }
   },
   "source": [
    "# Load your dataset\n",
    "graphs = load_and_shuffle_dataset()\n",
    "\n",
    "# Determine the number of node features and classes\n",
    "sample_graph = random.choice(graphs)\n",
    "num_node_features = sample_graph.num_node_features\n",
    "num_classes = len(set(graph.y for graph in graphs))"
   ],
   "outputs": [
    {
     "name": "stderr",
     "output_type": "stream",
     "text": [
      "/var/folders/dg/vjh27h1x0klcm6hw2_gsywzr0000gn/T/ipykernel_17331/2468624989.py:5: FutureWarning: You are using `torch.load` with `weights_only=False` (the current default value), which uses the default pickle module implicitly. It is possible to construct malicious pickle data which will execute arbitrary code during unpickling (See https://github.com/pytorch/pytorch/blob/main/SECURITY.md#untrusted-models for more details). In a future release, the default value for `weights_only` will be flipped to `True`. This limits the functions that could be executed during unpickling. Arbitrary objects will no longer be allowed to be loaded via this mode unless they are explicitly allowlisted by the user via `torch.serialization.add_safe_globals`. We recommend you start setting `weights_only=True` for any use case where you don't have full control of the loaded file. Please open an issue on GitHub for any issues related to this experimental feature.\n",
      "  graphs.append(torch.load(start_dir + \"/\" + graph))\n"
     ]
    }
   ],
   "execution_count": 7
  },
  {
   "metadata": {
    "ExecuteTime": {
     "end_time": "2024-10-15T05:08:32.355438Z",
     "start_time": "2024-10-15T05:08:32.353123Z"
    }
   },
   "cell_type": "code",
   "source": [
    "def train(model, train_loader, optimizer, criterion):\n",
    "    model.train()\n",
    "    total_loss = 0\n",
    "    for data in train_loader:\n",
    "        data = data.to(device)\n",
    "        optimizer.zero_grad()\n",
    "        out = model(data.x, data.edge_index, data.batch)\n",
    "        loss = criterion(out, data.y)\n",
    "        loss.backward()\n",
    "        optimizer.step()\n",
    "        total_loss += loss.item()\n",
    "    return total_loss / len(train_loader)"
   ],
   "outputs": [],
   "execution_count": 8
  },
  {
   "metadata": {
    "ExecuteTime": {
     "end_time": "2024-10-15T05:08:32.484686Z",
     "start_time": "2024-10-15T05:08:32.480800Z"
    }
   },
   "cell_type": "code",
   "source": [
    "def test(model, loader, criterion):\n",
    "    model.eval()\n",
    "    correct = 0\n",
    "    total_loss = 0\n",
    "    with torch.no_grad():\n",
    "        for data in loader:\n",
    "            data = data.to(device)\n",
    "            out = model(data.x, data.edge_index, data.batch)\n",
    "            loss = criterion(out, data.y)\n",
    "            total_loss += loss.item()\n",
    "            pred = out.argmax(dim=1)\n",
    "            correct += int((pred == data.y).sum())\n",
    "    return correct / len(loader.dataset), total_loss / len(loader)"
   ],
   "outputs": [],
   "execution_count": 9
  },
  {
   "metadata": {
    "ExecuteTime": {
     "end_time": "2024-10-15T05:08:32.742151Z",
     "start_time": "2024-10-15T05:08:32.739636Z"
    }
   },
   "cell_type": "code",
   "source": [
    "def check_early_stopping(val_acc, best_val_acc, train_acc, best_train_acc, early_stopping_counter, patience=30):\n",
    "    if val_acc > best_val_acc:\n",
    "        best_val_acc = val_acc\n",
    "        best_train_acc = train_acc\n",
    "        early_stopping_counter = 0\n",
    "    else:\n",
    "        early_stopping_counter += 1\n",
    "\n",
    "    if early_stopping_counter > patience:\n",
    "        print(\"Early stopping...\")\n",
    "        return True, best_val_acc, best_train_acc, early_stopping_counter\n",
    "\n",
    "    return False, best_val_acc, best_train_acc, early_stopping_counter"
   ],
   "outputs": [],
   "execution_count": 10
  },
  {
   "metadata": {
    "ExecuteTime": {
     "end_time": "2024-10-15T05:08:33.224690Z",
     "start_time": "2024-10-15T05:08:33.221892Z"
    }
   },
   "cell_type": "code",
   "source": [
    "def plot_training_validation_metrics(avg_train_loss, avg_val_loss, avg_train_acc, avg_val_acc):\n",
    "    \"\"\"\n",
    "    Plots the average training and validation loss and accuracy over epochs.\n",
    "    \n",
    "    \"\"\"\n",
    "    plt.figure(figsize=(10, 5))\n",
    "\n",
    "    # Plotting average training and validation loss\n",
    "    plt.subplot(1, 2, 1)\n",
    "    plt.plot(avg_train_loss, label='Avg Training Loss')\n",
    "    plt.plot(avg_val_loss, label='Avg Validation Loss')\n",
    "    plt.xlabel('Epochs')\n",
    "    plt.ylabel('Loss')\n",
    "    plt.title('Average Training and Validation Loss')\n",
    "    plt.legend()\n",
    "\n",
    "    # Plotting average training and validation accuracy\n",
    "    plt.subplot(1, 2, 2)\n",
    "    plt.plot(avg_train_acc, label='Avg Training Accuracy')\n",
    "    plt.plot(avg_val_acc, label='Avg Validation Accuracy')\n",
    "    plt.xlabel('Epochs')\n",
    "    plt.ylabel('Accuracy')\n",
    "    plt.title('Average Training and Validation Accuracy')\n",
    "    plt.legend()\n",
    "\n",
    "    # Show the plot\n",
    "    plt.show()\n"
   ],
   "outputs": [],
   "execution_count": 11
  },
  {
   "metadata": {},
   "cell_type": "markdown",
   "source": "## 1. Training GCN"
  },
  {
   "metadata": {
    "ExecuteTime": {
     "end_time": "2024-10-15T05:08:35.590665Z",
     "start_time": "2024-10-15T05:08:35.291691Z"
    }
   },
   "cell_type": "code",
   "source": [
    "# 1. Load your dataset and shuffle\n",
    "graphs = load_and_shuffle_dataset()\n",
    "\n",
    "# 2. Determine the number of node features and classes\n",
    "num_node_features = graphs[0].num_node_features\n",
    "num_classes = len(set(graph.y for graph in graphs))\n",
    "\n",
    "# 3. K-Fold Cross Validation setup\n",
    "kfold = KFold(n_splits=3, shuffle=True, random_state=42)"
   ],
   "outputs": [
    {
     "name": "stderr",
     "output_type": "stream",
     "text": [
      "/var/folders/dg/vjh27h1x0klcm6hw2_gsywzr0000gn/T/ipykernel_17331/2468624989.py:5: FutureWarning: You are using `torch.load` with `weights_only=False` (the current default value), which uses the default pickle module implicitly. It is possible to construct malicious pickle data which will execute arbitrary code during unpickling (See https://github.com/pytorch/pytorch/blob/main/SECURITY.md#untrusted-models for more details). In a future release, the default value for `weights_only` will be flipped to `True`. This limits the functions that could be executed during unpickling. Arbitrary objects will no longer be allowed to be loaded via this mode unless they are explicitly allowlisted by the user via `torch.serialization.add_safe_globals`. We recommend you start setting `weights_only=True` for any use case where you don't have full control of the loaded file. Please open an issue on GitHub for any issues related to this experimental feature.\n",
      "  graphs.append(torch.load(start_dir + \"/\" + graph))\n"
     ]
    }
   ],
   "execution_count": 12
  },
  {
   "metadata": {
    "ExecuteTime": {
     "end_time": "2024-10-15T05:08:46.198964Z",
     "start_time": "2024-10-15T05:08:46.194259Z"
    }
   },
   "cell_type": "code",
   "source": [
    "# GCN: Graph Convolutional Network\n",
    "class GCN(torch.nn.Module):\n",
    "    def __init__(self, hidden_channels):\n",
    "        super(GCN, self).__init__()\n",
    "        torch.manual_seed(12345)\n",
    "        self.conv1 = GCNConv(num_node_features, hidden_channels)\n",
    "        self.conv2 = GCNConv(hidden_channels, hidden_channels)\n",
    "        self.conv3 = GCNConv(hidden_channels, hidden_channels)\n",
    "        self.lin = Linear(hidden_channels, num_classes)\n",
    "\n",
    "    def forward(self, x, edge_index, batch):\n",
    "        x = self.conv1(x, edge_index)\n",
    "        x = F.relu(x)\n",
    "        x = self.conv2(x, edge_index)\n",
    "        x = F.relu(x)\n",
    "        x = self.conv3(x, edge_index)\n",
    "        x = global_mean_pool(x, batch)\n",
    "        x = F.dropout(x, p=0.5, training=self.training)\n",
    "        x = self.lin(x)\n",
    "        return x"
   ],
   "outputs": [],
   "execution_count": 13
  },
  {
   "cell_type": "code",
   "metadata": {
    "ExecuteTime": {
     "end_time": "2024-10-15T05:14:03.785979Z",
     "start_time": "2024-10-15T05:13:42.719950Z"
    }
   },
   "source": [
    "# Training and validation for each fold\n",
    "fold_performance = {\n",
    "    'train_loss': [],\n",
    "    'val_loss': [],\n",
    "    'train_acc': [],\n",
    "    'val_acc': [],\n",
    "    'best_val_acc': [],\n",
    "    'best_train_acc': []\n",
    "}\n",
    "for fold, (train_idx, val_idx) in enumerate(kfold.split(graphs)):\n",
    "    print(f\"Fold {fold + 1}\")\n",
    "\n",
    "    # Split the training and validation data for the fold and set up a data loader.\n",
    "    train_graphs = [graphs[i] for i in train_idx]\n",
    "    val_graphs = [graphs[i] for i in val_idx]\n",
    "    train_loader = DataLoader(train_graphs, batch_size=10, shuffle=True)\n",
    "    val_loader = DataLoader(val_graphs, batch_size=10, shuffle=False)\n",
    "\n",
    "    # Reinitialize model and optimizer\n",
    "    model = GCN(hidden_channels=64).to(device)\n",
    "    optimizer = torch.optim.Adam(model.parameters(), lr=0.001, weight_decay=5e-4)\n",
    "    criterion = torch.nn.CrossEntropyLoss()\n",
    "    scheduler = StepLR(optimizer, step_size=50, gamma=0.5)\n",
    "\n",
    "    # Training loop\n",
    "    training_losses = []\n",
    "    validation_losses = []\n",
    "    train_acc_history = []\n",
    "    val_acc_history = []\n",
    "    best_val_acc = 0\n",
    "    best_train_acc = 0\n",
    "    early_stopping_counter = 0\n",
    "\n",
    "    # The model is trained at each epoch, and the loss and accuracy rates are calculated and stored. \n",
    "    for epoch in range(1, 300):\n",
    "        train_loss = train(model, train_loader, optimizer, criterion)\n",
    "        train_acc, _ = test(model, train_loader, criterion)\n",
    "        val_acc, val_loss = test(model, val_loader, criterion)\n",
    "\n",
    "        training_losses.append(train_loss)\n",
    "        validation_losses.append(val_loss)\n",
    "        train_acc_history.append(train_acc)\n",
    "        val_acc_history.append(val_acc)\n",
    "\n",
    "        # Check early stopping\n",
    "        stop, best_val_acc, best_train_acc, early_stopping_counter = check_early_stopping(\n",
    "            val_acc, best_val_acc, train_acc, best_train_acc, early_stopping_counter\n",
    "        )\n",
    "        if stop:\n",
    "            break\n",
    "\n",
    "        scheduler.step()\n",
    "\n",
    "        if epoch % 10 == 0:\n",
    "            print(\n",
    "                f'Fold {fold + 1}, Epoch {epoch}, Train Loss: {train_loss}, Train Acc: {train_acc}, Val Loss: {val_loss}, Val Acc: {val_acc}')\n",
    "\n",
    "    fold_performance['train_loss'].append(training_losses)\n",
    "    fold_performance['val_loss'].append(validation_losses)\n",
    "    fold_performance['train_acc'].append(train_acc_history)\n",
    "    fold_performance['val_acc'].append(val_acc_history)\n",
    "    fold_performance['best_val_acc'].append(best_val_acc)\n",
    "    fold_performance['best_train_acc'].append(best_train_acc)\n",
    "\n",
    "    print(f\"Completed Fold {fold + 1}\")\n",
    "\n",
    "# Find the minimum length across folds to trim the data\n",
    "min_length = min(len(perf) for perf in fold_performance['train_loss'])\n",
    "\n",
    "# 5. Compute average performance\n",
    "avg_train_loss = np.mean([perf[:min_length] for perf in fold_performance['train_loss']], axis=0)\n",
    "avg_val_loss = np.mean([perf[:min_length] for perf in fold_performance['val_loss']], axis=0)\n",
    "avg_train_acc = np.mean([perf[:min_length] for perf in fold_performance['train_acc']], axis=0)\n",
    "avg_val_acc = np.mean([perf[:min_length] for perf in fold_performance['val_acc']], axis=0)"
   ],
   "outputs": [
    {
     "name": "stdout",
     "output_type": "stream",
     "text": [
      "Fold 1\n"
     ]
    },
    {
     "name": "stderr",
     "output_type": "stream",
     "text": [
      "/Users/nakayama/anaconda3/envs/hikari/lib/python3.10/site-packages/torch_geometric/deprecation.py:26: UserWarning: 'data.DataLoader' is deprecated, use 'loader.DataLoader' instead\n",
      "  warnings.warn(out)\n"
     ]
    },
    {
     "ename": "KeyboardInterrupt",
     "evalue": "",
     "output_type": "error",
     "traceback": [
      "\u001B[0;31m---------------------------------------------------------------------------\u001B[0m",
      "\u001B[0;31mKeyboardInterrupt\u001B[0m                         Traceback (most recent call last)",
      "Cell \u001B[0;32mIn[16], line 36\u001B[0m\n\u001B[1;32m     34\u001B[0m \u001B[38;5;66;03m# The model is trained at each epoch, and the loss and accuracy rates are calculated and stored. \u001B[39;00m\n\u001B[1;32m     35\u001B[0m \u001B[38;5;28;01mfor\u001B[39;00m epoch \u001B[38;5;129;01min\u001B[39;00m \u001B[38;5;28mrange\u001B[39m(\u001B[38;5;241m1\u001B[39m, \u001B[38;5;241m300\u001B[39m):\n\u001B[0;32m---> 36\u001B[0m     train_loss \u001B[38;5;241m=\u001B[39m \u001B[43mtrain\u001B[49m\u001B[43m(\u001B[49m\u001B[43mmodel\u001B[49m\u001B[43m,\u001B[49m\u001B[43m \u001B[49m\u001B[43mtrain_loader\u001B[49m\u001B[43m,\u001B[49m\u001B[43m \u001B[49m\u001B[43moptimizer\u001B[49m\u001B[43m,\u001B[49m\u001B[43m \u001B[49m\u001B[43mcriterion\u001B[49m\u001B[43m)\u001B[49m\n\u001B[1;32m     37\u001B[0m     train_acc, _ \u001B[38;5;241m=\u001B[39m test(model, train_loader, criterion)\n\u001B[1;32m     38\u001B[0m     val_acc, val_loss \u001B[38;5;241m=\u001B[39m test(model, val_loader, criterion)\n",
      "Cell \u001B[0;32mIn[8], line 7\u001B[0m, in \u001B[0;36mtrain\u001B[0;34m(model, train_loader, optimizer, criterion)\u001B[0m\n\u001B[1;32m      5\u001B[0m data \u001B[38;5;241m=\u001B[39m data\u001B[38;5;241m.\u001B[39mto(device)\n\u001B[1;32m      6\u001B[0m optimizer\u001B[38;5;241m.\u001B[39mzero_grad()\n\u001B[0;32m----> 7\u001B[0m out \u001B[38;5;241m=\u001B[39m \u001B[43mmodel\u001B[49m\u001B[43m(\u001B[49m\u001B[43mdata\u001B[49m\u001B[38;5;241;43m.\u001B[39;49m\u001B[43mx\u001B[49m\u001B[43m,\u001B[49m\u001B[43m \u001B[49m\u001B[43mdata\u001B[49m\u001B[38;5;241;43m.\u001B[39;49m\u001B[43medge_index\u001B[49m\u001B[43m,\u001B[49m\u001B[43m \u001B[49m\u001B[43mdata\u001B[49m\u001B[38;5;241;43m.\u001B[39;49m\u001B[43mbatch\u001B[49m\u001B[43m)\u001B[49m\n\u001B[1;32m      8\u001B[0m loss \u001B[38;5;241m=\u001B[39m criterion(out, data\u001B[38;5;241m.\u001B[39my)\n\u001B[1;32m      9\u001B[0m loss\u001B[38;5;241m.\u001B[39mbackward()\n",
      "File \u001B[0;32m~/anaconda3/envs/hikari/lib/python3.10/site-packages/torch/nn/modules/module.py:1553\u001B[0m, in \u001B[0;36mModule._wrapped_call_impl\u001B[0;34m(self, *args, **kwargs)\u001B[0m\n\u001B[1;32m   1551\u001B[0m     \u001B[38;5;28;01mreturn\u001B[39;00m \u001B[38;5;28mself\u001B[39m\u001B[38;5;241m.\u001B[39m_compiled_call_impl(\u001B[38;5;241m*\u001B[39margs, \u001B[38;5;241m*\u001B[39m\u001B[38;5;241m*\u001B[39mkwargs)  \u001B[38;5;66;03m# type: ignore[misc]\u001B[39;00m\n\u001B[1;32m   1552\u001B[0m \u001B[38;5;28;01melse\u001B[39;00m:\n\u001B[0;32m-> 1553\u001B[0m     \u001B[38;5;28;01mreturn\u001B[39;00m \u001B[38;5;28;43mself\u001B[39;49m\u001B[38;5;241;43m.\u001B[39;49m\u001B[43m_call_impl\u001B[49m\u001B[43m(\u001B[49m\u001B[38;5;241;43m*\u001B[39;49m\u001B[43margs\u001B[49m\u001B[43m,\u001B[49m\u001B[43m \u001B[49m\u001B[38;5;241;43m*\u001B[39;49m\u001B[38;5;241;43m*\u001B[39;49m\u001B[43mkwargs\u001B[49m\u001B[43m)\u001B[49m\n",
      "File \u001B[0;32m~/anaconda3/envs/hikari/lib/python3.10/site-packages/torch/nn/modules/module.py:1562\u001B[0m, in \u001B[0;36mModule._call_impl\u001B[0;34m(self, *args, **kwargs)\u001B[0m\n\u001B[1;32m   1557\u001B[0m \u001B[38;5;66;03m# If we don't have any hooks, we want to skip the rest of the logic in\u001B[39;00m\n\u001B[1;32m   1558\u001B[0m \u001B[38;5;66;03m# this function, and just call forward.\u001B[39;00m\n\u001B[1;32m   1559\u001B[0m \u001B[38;5;28;01mif\u001B[39;00m \u001B[38;5;129;01mnot\u001B[39;00m (\u001B[38;5;28mself\u001B[39m\u001B[38;5;241m.\u001B[39m_backward_hooks \u001B[38;5;129;01mor\u001B[39;00m \u001B[38;5;28mself\u001B[39m\u001B[38;5;241m.\u001B[39m_backward_pre_hooks \u001B[38;5;129;01mor\u001B[39;00m \u001B[38;5;28mself\u001B[39m\u001B[38;5;241m.\u001B[39m_forward_hooks \u001B[38;5;129;01mor\u001B[39;00m \u001B[38;5;28mself\u001B[39m\u001B[38;5;241m.\u001B[39m_forward_pre_hooks\n\u001B[1;32m   1560\u001B[0m         \u001B[38;5;129;01mor\u001B[39;00m _global_backward_pre_hooks \u001B[38;5;129;01mor\u001B[39;00m _global_backward_hooks\n\u001B[1;32m   1561\u001B[0m         \u001B[38;5;129;01mor\u001B[39;00m _global_forward_hooks \u001B[38;5;129;01mor\u001B[39;00m _global_forward_pre_hooks):\n\u001B[0;32m-> 1562\u001B[0m     \u001B[38;5;28;01mreturn\u001B[39;00m \u001B[43mforward_call\u001B[49m\u001B[43m(\u001B[49m\u001B[38;5;241;43m*\u001B[39;49m\u001B[43margs\u001B[49m\u001B[43m,\u001B[49m\u001B[43m \u001B[49m\u001B[38;5;241;43m*\u001B[39;49m\u001B[38;5;241;43m*\u001B[39;49m\u001B[43mkwargs\u001B[49m\u001B[43m)\u001B[49m\n\u001B[1;32m   1564\u001B[0m \u001B[38;5;28;01mtry\u001B[39;00m:\n\u001B[1;32m   1565\u001B[0m     result \u001B[38;5;241m=\u001B[39m \u001B[38;5;28;01mNone\u001B[39;00m\n",
      "Cell \u001B[0;32mIn[13], line 12\u001B[0m, in \u001B[0;36mGCN.forward\u001B[0;34m(self, x, edge_index, batch)\u001B[0m\n\u001B[1;32m     11\u001B[0m \u001B[38;5;28;01mdef\u001B[39;00m \u001B[38;5;21mforward\u001B[39m(\u001B[38;5;28mself\u001B[39m, x, edge_index, batch):\n\u001B[0;32m---> 12\u001B[0m     x \u001B[38;5;241m=\u001B[39m \u001B[38;5;28;43mself\u001B[39;49m\u001B[38;5;241;43m.\u001B[39;49m\u001B[43mconv1\u001B[49m\u001B[43m(\u001B[49m\u001B[43mx\u001B[49m\u001B[43m,\u001B[49m\u001B[43m \u001B[49m\u001B[43medge_index\u001B[49m\u001B[43m)\u001B[49m\n\u001B[1;32m     13\u001B[0m     x \u001B[38;5;241m=\u001B[39m F\u001B[38;5;241m.\u001B[39mrelu(x)\n\u001B[1;32m     14\u001B[0m     x \u001B[38;5;241m=\u001B[39m \u001B[38;5;28mself\u001B[39m\u001B[38;5;241m.\u001B[39mconv2(x, edge_index)\n",
      "File \u001B[0;32m~/anaconda3/envs/hikari/lib/python3.10/site-packages/torch/nn/modules/module.py:1553\u001B[0m, in \u001B[0;36mModule._wrapped_call_impl\u001B[0;34m(self, *args, **kwargs)\u001B[0m\n\u001B[1;32m   1551\u001B[0m     \u001B[38;5;28;01mreturn\u001B[39;00m \u001B[38;5;28mself\u001B[39m\u001B[38;5;241m.\u001B[39m_compiled_call_impl(\u001B[38;5;241m*\u001B[39margs, \u001B[38;5;241m*\u001B[39m\u001B[38;5;241m*\u001B[39mkwargs)  \u001B[38;5;66;03m# type: ignore[misc]\u001B[39;00m\n\u001B[1;32m   1552\u001B[0m \u001B[38;5;28;01melse\u001B[39;00m:\n\u001B[0;32m-> 1553\u001B[0m     \u001B[38;5;28;01mreturn\u001B[39;00m \u001B[38;5;28;43mself\u001B[39;49m\u001B[38;5;241;43m.\u001B[39;49m\u001B[43m_call_impl\u001B[49m\u001B[43m(\u001B[49m\u001B[38;5;241;43m*\u001B[39;49m\u001B[43margs\u001B[49m\u001B[43m,\u001B[49m\u001B[43m \u001B[49m\u001B[38;5;241;43m*\u001B[39;49m\u001B[38;5;241;43m*\u001B[39;49m\u001B[43mkwargs\u001B[49m\u001B[43m)\u001B[49m\n",
      "File \u001B[0;32m~/anaconda3/envs/hikari/lib/python3.10/site-packages/torch/nn/modules/module.py:1562\u001B[0m, in \u001B[0;36mModule._call_impl\u001B[0;34m(self, *args, **kwargs)\u001B[0m\n\u001B[1;32m   1557\u001B[0m \u001B[38;5;66;03m# If we don't have any hooks, we want to skip the rest of the logic in\u001B[39;00m\n\u001B[1;32m   1558\u001B[0m \u001B[38;5;66;03m# this function, and just call forward.\u001B[39;00m\n\u001B[1;32m   1559\u001B[0m \u001B[38;5;28;01mif\u001B[39;00m \u001B[38;5;129;01mnot\u001B[39;00m (\u001B[38;5;28mself\u001B[39m\u001B[38;5;241m.\u001B[39m_backward_hooks \u001B[38;5;129;01mor\u001B[39;00m \u001B[38;5;28mself\u001B[39m\u001B[38;5;241m.\u001B[39m_backward_pre_hooks \u001B[38;5;129;01mor\u001B[39;00m \u001B[38;5;28mself\u001B[39m\u001B[38;5;241m.\u001B[39m_forward_hooks \u001B[38;5;129;01mor\u001B[39;00m \u001B[38;5;28mself\u001B[39m\u001B[38;5;241m.\u001B[39m_forward_pre_hooks\n\u001B[1;32m   1560\u001B[0m         \u001B[38;5;129;01mor\u001B[39;00m _global_backward_pre_hooks \u001B[38;5;129;01mor\u001B[39;00m _global_backward_hooks\n\u001B[1;32m   1561\u001B[0m         \u001B[38;5;129;01mor\u001B[39;00m _global_forward_hooks \u001B[38;5;129;01mor\u001B[39;00m _global_forward_pre_hooks):\n\u001B[0;32m-> 1562\u001B[0m     \u001B[38;5;28;01mreturn\u001B[39;00m \u001B[43mforward_call\u001B[49m\u001B[43m(\u001B[49m\u001B[38;5;241;43m*\u001B[39;49m\u001B[43margs\u001B[49m\u001B[43m,\u001B[49m\u001B[43m \u001B[49m\u001B[38;5;241;43m*\u001B[39;49m\u001B[38;5;241;43m*\u001B[39;49m\u001B[43mkwargs\u001B[49m\u001B[43m)\u001B[49m\n\u001B[1;32m   1564\u001B[0m \u001B[38;5;28;01mtry\u001B[39;00m:\n\u001B[1;32m   1565\u001B[0m     result \u001B[38;5;241m=\u001B[39m \u001B[38;5;28;01mNone\u001B[39;00m\n",
      "File \u001B[0;32m~/anaconda3/envs/hikari/lib/python3.10/site-packages/torch_geometric/nn/conv/gcn_conv.py:241\u001B[0m, in \u001B[0;36mGCNConv.forward\u001B[0;34m(self, x, edge_index, edge_weight)\u001B[0m\n\u001B[1;32m    239\u001B[0m cache \u001B[38;5;241m=\u001B[39m \u001B[38;5;28mself\u001B[39m\u001B[38;5;241m.\u001B[39m_cached_edge_index\n\u001B[1;32m    240\u001B[0m \u001B[38;5;28;01mif\u001B[39;00m cache \u001B[38;5;129;01mis\u001B[39;00m \u001B[38;5;28;01mNone\u001B[39;00m:\n\u001B[0;32m--> 241\u001B[0m     edge_index, edge_weight \u001B[38;5;241m=\u001B[39m \u001B[43mgcn_norm\u001B[49m\u001B[43m(\u001B[49m\u001B[43m  \u001B[49m\u001B[38;5;66;43;03m# yapf: disable\u001B[39;49;00m\n\u001B[1;32m    242\u001B[0m \u001B[43m        \u001B[49m\u001B[43medge_index\u001B[49m\u001B[43m,\u001B[49m\u001B[43m \u001B[49m\u001B[43medge_weight\u001B[49m\u001B[43m,\u001B[49m\u001B[43m \u001B[49m\u001B[43mx\u001B[49m\u001B[38;5;241;43m.\u001B[39;49m\u001B[43msize\u001B[49m\u001B[43m(\u001B[49m\u001B[38;5;28;43mself\u001B[39;49m\u001B[38;5;241;43m.\u001B[39;49m\u001B[43mnode_dim\u001B[49m\u001B[43m)\u001B[49m\u001B[43m,\u001B[49m\n\u001B[1;32m    243\u001B[0m \u001B[43m        \u001B[49m\u001B[38;5;28;43mself\u001B[39;49m\u001B[38;5;241;43m.\u001B[39;49m\u001B[43mimproved\u001B[49m\u001B[43m,\u001B[49m\u001B[43m \u001B[49m\u001B[38;5;28;43mself\u001B[39;49m\u001B[38;5;241;43m.\u001B[39;49m\u001B[43madd_self_loops\u001B[49m\u001B[43m,\u001B[49m\u001B[43m \u001B[49m\u001B[38;5;28;43mself\u001B[39;49m\u001B[38;5;241;43m.\u001B[39;49m\u001B[43mflow\u001B[49m\u001B[43m,\u001B[49m\u001B[43m \u001B[49m\u001B[43mx\u001B[49m\u001B[38;5;241;43m.\u001B[39;49m\u001B[43mdtype\u001B[49m\u001B[43m)\u001B[49m\n\u001B[1;32m    244\u001B[0m     \u001B[38;5;28;01mif\u001B[39;00m \u001B[38;5;28mself\u001B[39m\u001B[38;5;241m.\u001B[39mcached:\n\u001B[1;32m    245\u001B[0m         \u001B[38;5;28mself\u001B[39m\u001B[38;5;241m.\u001B[39m_cached_edge_index \u001B[38;5;241m=\u001B[39m (edge_index, edge_weight)\n",
      "File \u001B[0;32m~/anaconda3/envs/hikari/lib/python3.10/site-packages/torch_geometric/nn/conv/gcn_conv.py:108\u001B[0m, in \u001B[0;36mgcn_norm\u001B[0;34m(edge_index, edge_weight, num_nodes, improved, add_self_loops, flow, dtype)\u001B[0m\n\u001B[1;32m    106\u001B[0m row, col \u001B[38;5;241m=\u001B[39m edge_index[\u001B[38;5;241m0\u001B[39m], edge_index[\u001B[38;5;241m1\u001B[39m]\n\u001B[1;32m    107\u001B[0m idx \u001B[38;5;241m=\u001B[39m col \u001B[38;5;28;01mif\u001B[39;00m flow \u001B[38;5;241m==\u001B[39m \u001B[38;5;124m'\u001B[39m\u001B[38;5;124msource_to_target\u001B[39m\u001B[38;5;124m'\u001B[39m \u001B[38;5;28;01melse\u001B[39;00m row\n\u001B[0;32m--> 108\u001B[0m deg \u001B[38;5;241m=\u001B[39m \u001B[43mscatter\u001B[49m\u001B[43m(\u001B[49m\u001B[43medge_weight\u001B[49m\u001B[43m,\u001B[49m\u001B[43m \u001B[49m\u001B[43midx\u001B[49m\u001B[43m,\u001B[49m\u001B[43m \u001B[49m\u001B[43mdim\u001B[49m\u001B[38;5;241;43m=\u001B[39;49m\u001B[38;5;241;43m0\u001B[39;49m\u001B[43m,\u001B[49m\u001B[43m \u001B[49m\u001B[43mdim_size\u001B[49m\u001B[38;5;241;43m=\u001B[39;49m\u001B[43mnum_nodes\u001B[49m\u001B[43m,\u001B[49m\u001B[43m \u001B[49m\u001B[43mreduce\u001B[49m\u001B[38;5;241;43m=\u001B[39;49m\u001B[38;5;124;43m'\u001B[39;49m\u001B[38;5;124;43msum\u001B[39;49m\u001B[38;5;124;43m'\u001B[39;49m\u001B[43m)\u001B[49m\n\u001B[1;32m    109\u001B[0m deg_inv_sqrt \u001B[38;5;241m=\u001B[39m deg\u001B[38;5;241m.\u001B[39mpow_(\u001B[38;5;241m-\u001B[39m\u001B[38;5;241m0.5\u001B[39m)\n\u001B[1;32m    110\u001B[0m deg_inv_sqrt\u001B[38;5;241m.\u001B[39mmasked_fill_(deg_inv_sqrt \u001B[38;5;241m==\u001B[39m \u001B[38;5;28mfloat\u001B[39m(\u001B[38;5;124m'\u001B[39m\u001B[38;5;124minf\u001B[39m\u001B[38;5;124m'\u001B[39m), \u001B[38;5;241m0\u001B[39m)\n",
      "File \u001B[0;32m~/anaconda3/envs/hikari/lib/python3.10/site-packages/torch_geometric/utils/_scatter.py:75\u001B[0m, in \u001B[0;36mscatter\u001B[0;34m(src, index, dim, dim_size, reduce)\u001B[0m\n\u001B[1;32m     73\u001B[0m \u001B[38;5;28;01mif\u001B[39;00m reduce \u001B[38;5;241m==\u001B[39m \u001B[38;5;124m'\u001B[39m\u001B[38;5;124msum\u001B[39m\u001B[38;5;124m'\u001B[39m \u001B[38;5;129;01mor\u001B[39;00m reduce \u001B[38;5;241m==\u001B[39m \u001B[38;5;124m'\u001B[39m\u001B[38;5;124madd\u001B[39m\u001B[38;5;124m'\u001B[39m:\n\u001B[1;32m     74\u001B[0m     index \u001B[38;5;241m=\u001B[39m broadcast(index, src, dim)\n\u001B[0;32m---> 75\u001B[0m     \u001B[38;5;28;01mreturn\u001B[39;00m \u001B[43msrc\u001B[49m\u001B[38;5;241;43m.\u001B[39;49m\u001B[43mnew_zeros\u001B[49m\u001B[43m(\u001B[49m\u001B[43msize\u001B[49m\u001B[43m)\u001B[49m\u001B[38;5;241;43m.\u001B[39;49m\u001B[43mscatter_add_\u001B[49m\u001B[43m(\u001B[49m\u001B[43mdim\u001B[49m\u001B[43m,\u001B[49m\u001B[43m \u001B[49m\u001B[43mindex\u001B[49m\u001B[43m,\u001B[49m\u001B[43m \u001B[49m\u001B[43msrc\u001B[49m\u001B[43m)\u001B[49m\n\u001B[1;32m     77\u001B[0m \u001B[38;5;28;01mif\u001B[39;00m reduce \u001B[38;5;241m==\u001B[39m \u001B[38;5;124m'\u001B[39m\u001B[38;5;124mmean\u001B[39m\u001B[38;5;124m'\u001B[39m:\n\u001B[1;32m     78\u001B[0m     count \u001B[38;5;241m=\u001B[39m src\u001B[38;5;241m.\u001B[39mnew_zeros(dim_size)\n",
      "\u001B[0;31mKeyboardInterrupt\u001B[0m: "
     ]
    }
   ],
   "execution_count": 16
  },
  {
   "metadata": {},
   "cell_type": "code",
   "outputs": [],
   "execution_count": null,
   "source": "plot_training_validation_metrics(avg_train_loss, avg_val_loss, avg_train_acc, avg_val_acc)"
  },
  {
   "metadata": {},
   "cell_type": "code",
   "outputs": [],
   "execution_count": null,
   "source": [
    "# Calculate the mean accuracy for training and validation\n",
    "mean_train_acc = np.mean(fold_performance['best_train_acc'])\n",
    "mean_val_acc = np.mean(fold_performance['best_val_acc'])\n",
    "acc_data = {\n",
    "    'mean_train_acc': mean_train_acc,\n",
    "    'mean_val_acc': mean_val_acc}\n",
    "\n",
    "# Define model name and file name\n",
    "model_name = model.__class__.__name__\n",
    "acc_filename = f\"{save_root_dir}/{str(num_qubits).zfill(2)}_qubits_{model_name}_final_accuracies.jb\"\n",
    "model_filename = f\"{save_root_dir}/{str(num_qubits).zfill(2)}_qubits_{model_name}_final_model.jb\"\n",
    "\n",
    "# Save the model parameters\n",
    "joblib.dump(model.state_dict(), model_filename)\n",
    "print(f\"Model parameters saved to {model_filename}\")\n",
    "\n",
    "# Save accuracies\n",
    "joblib.dump(acc_data, acc_filename)\n",
    "print(f\"Accuracies saved to {acc_filename}\")\n",
    "\n",
    "# Loading the accuracies (for verification)\n",
    "loaded_acc_data = joblib.load(acc_filename)\n",
    "print(\"Loaded Mean Training Accuracy:\", loaded_acc_data['mean_train_acc'])\n",
    "print(\"Loaded Mean Validation Accuracy:\", loaded_acc_data['mean_val_acc'])"
   ]
  },
  {
   "cell_type": "markdown",
   "metadata": {},
   "source": [
    "## 2. Training GCN v2\n",
    "\n",
    "TODO: パラメータ数が多い、など、説明を加える。"
   ]
  },
  {
   "metadata": {},
   "cell_type": "code",
   "outputs": [],
   "execution_count": null,
   "source": "os.environ['CUDA_LAUNCH_BLOCKING'] = \"1\""
  },
  {
   "metadata": {},
   "cell_type": "code",
   "outputs": [],
   "execution_count": null,
   "source": [
    "# 1. Load your dataset and shuffle\n",
    "graphs = load_and_shuffle_dataset()\n",
    "\n",
    "# 2. Determine the number of node features and classes\n",
    "num_node_features = graphs[0].num_node_features\n",
    "num_classes = len(set(graph.y for graph in graphs))\n",
    "\n",
    "# 3. K-Fold Cross Validation setup\n",
    "kfold = KFold(n_splits=3, shuffle=True, random_state=42)"
   ]
  },
  {
   "metadata": {},
   "cell_type": "code",
   "outputs": [],
   "execution_count": null,
   "source": [
    "class ImprovedGCN(torch.nn.Module):\n",
    "    def __init__(self, hidden_channels):\n",
    "        super(ImprovedGCN, self).__init__()\n",
    "        torch.manual_seed(12345)\n",
    "        self.conv1 = GATConv(num_node_features, hidden_channels)\n",
    "        self.bn1 = BatchNorm1d(hidden_channels)\n",
    "        self.conv2 = GATConv(hidden_channels, hidden_channels)\n",
    "        self.bn2 = BatchNorm1d(hidden_channels)\n",
    "        self.conv3 = GATConv(hidden_channels, hidden_channels)\n",
    "        self.bn3 = BatchNorm1d(hidden_channels)\n",
    "        self.lin = Linear(hidden_channels, num_classes)  # Assuming 5 classes\n",
    "\n",
    "    def forward(self, x, edge_index, batch):\n",
    "        x = relu(self.bn1(self.conv1(x, edge_index)))\n",
    "        x = relu(self.bn2(self.conv2(x, edge_index)))\n",
    "        x = self.bn3(self.conv3(x, edge_index))\n",
    "\n",
    "        x = global_mean_pool(x, batch)\n",
    "\n",
    "        x = dropout(x, p=0.5, training=self.training)\n",
    "        x = self.lin(x)\n",
    "\n",
    "        return x"
   ]
  },
  {
   "metadata": {},
   "cell_type": "code",
   "outputs": [],
   "execution_count": null,
   "source": [
    "# Training and validation for each fold\n",
    "fold_performance = {\n",
    "    'train_loss': [],\n",
    "    'val_loss': [],\n",
    "    'train_acc': [],\n",
    "    'val_acc': [],\n",
    "    'best_val_acc': [],\n",
    "    'best_train_acc': []\n",
    "}\n",
    "for fold, (train_idx, val_idx) in enumerate(kfold.split(graphs)):\n",
    "    print(f\"Fold {fold + 1}\")\n",
    "\n",
    "    # Split the training and validation data for the fold and set up a data loader.\n",
    "    train_graphs = [graphs[i] for i in train_idx]\n",
    "    val_graphs = [graphs[i] for i in val_idx]\n",
    "    train_loader = DataLoader(train_graphs, batch_size=10, shuffle=True)\n",
    "    val_loader = DataLoader(val_graphs, batch_size=10, shuffle=False)\n",
    "\n",
    "    # Reinitialize model and optimizer\n",
    "    model = ImprovedGCN(hidden_channels=64).to(device)\n",
    "    optimizer = torch.optim.Adam(model.parameters(), lr=0.001, weight_decay=5e-4)\n",
    "    criterion = torch.nn.CrossEntropyLoss()\n",
    "    scheduler = StepLR(optimizer, step_size=50, gamma=0.5)\n",
    "\n",
    "    # Training loop\n",
    "    training_losses = []\n",
    "    validation_losses = []\n",
    "    train_acc_history = []\n",
    "    val_acc_history = []\n",
    "    best_val_acc = 0\n",
    "    best_train_acc = 0\n",
    "    early_stopping_counter = 0\n",
    "\n",
    "    # The model is trained at each epoch, and the loss and accuracy rates are calculated and stored. \n",
    "    for epoch in range(1, 300):\n",
    "        train_loss = train(model, train_loader, optimizer, criterion)\n",
    "        train_acc, _ = test(model, train_loader, criterion)\n",
    "        val_acc, val_loss = test(model, val_loader, criterion)\n",
    "\n",
    "        training_losses.append(train_loss)\n",
    "        validation_losses.append(val_loss)\n",
    "        train_acc_history.append(train_acc)\n",
    "        val_acc_history.append(val_acc)\n",
    "\n",
    "        # Check early stopping\n",
    "        stop, best_val_acc, best_train_acc, early_stopping_counter = check_early_stopping(\n",
    "            val_acc, best_val_acc, train_acc, best_train_acc, early_stopping_counter\n",
    "        )\n",
    "        if stop:\n",
    "            break\n",
    "\n",
    "        scheduler.step()\n",
    "\n",
    "        if epoch % 10 == 0:\n",
    "            print(\n",
    "                f'Fold {fold + 1}, Epoch {epoch}, Train Loss: {train_loss}, Train Acc: {train_acc}, Val Loss: {val_loss}, Val Acc: {val_acc}')\n",
    "\n",
    "    fold_performance['train_loss'].append(training_losses)\n",
    "    fold_performance['val_loss'].append(validation_losses)\n",
    "    fold_performance['train_acc'].append(train_acc_history)\n",
    "    fold_performance['val_acc'].append(val_acc_history)\n",
    "    fold_performance['best_val_acc'].append(best_val_acc)\n",
    "    fold_performance['best_train_acc'].append(best_train_acc)\n",
    "\n",
    "    print(f\"Completed Fold {fold + 1}\")\n",
    "\n",
    "# Find the minimum length across folds to trim the data\n",
    "min_length = min(len(perf) for perf in fold_performance['train_loss'])\n",
    "\n",
    "# 5. Compute average performance\n",
    "avg_train_loss = np.mean([perf[:min_length] for perf in fold_performance['train_loss']], axis=0)\n",
    "avg_val_loss = np.mean([perf[:min_length] for perf in fold_performance['val_loss']], axis=0)\n",
    "avg_train_acc = np.mean([perf[:min_length] for perf in fold_performance['train_acc']], axis=0)\n",
    "avg_val_acc = np.mean([perf[:min_length] for perf in fold_performance['val_acc']], axis=0)"
   ]
  },
  {
   "metadata": {},
   "cell_type": "code",
   "outputs": [],
   "execution_count": null,
   "source": "plot_training_validation_metrics(avg_train_loss, avg_val_loss, avg_train_acc, avg_val_acc)"
  },
  {
   "cell_type": "code",
   "execution_count": 9,
   "metadata": {},
   "outputs": [
    {
     "name": "stdout",
     "output_type": "stream",
     "text": [
      "Fold 1\n",
      "Fold 1, Epoch 10, Train Loss: 1.759234509865443, Train Acc: 0.2475, Val Loss: 1.7469205617904664, Val Acc: 0.15833333333333333\n",
      "Fold 1, Epoch 20, Train Loss: 1.7353033989667892, Train Acc: 0.2425, Val Loss: 1.7263743241628011, Val Acc: 0.16\n",
      "Fold 1, Epoch 30, Train Loss: 1.7440516432126363, Train Acc: 0.2708333333333333, Val Loss: 1.7293828030427296, Val Acc: 0.20166666666666666\n",
      "Fold 1, Epoch 40, Train Loss: 1.723169818520546, Train Acc: 0.2675, Val Loss: 1.7292146503925323, Val Acc: 0.20833333333333334\n",
      "Fold 1, Epoch 50, Train Loss: 1.718941115339597, Train Acc: 0.2841666666666667, Val Loss: 1.7226727724075317, Val Acc: 0.21333333333333335\n",
      "Fold 1, Epoch 60, Train Loss: 1.7028559356927873, Train Acc: 0.2833333333333333, Val Loss: 1.715473759174347, Val Acc: 0.20166666666666666\n",
      "Fold 1, Epoch 70, Train Loss: 1.7097061157226563, Train Acc: 0.2833333333333333, Val Loss: 1.7140769461790721, Val Acc: 0.21833333333333332\n",
      "Fold 1, Epoch 80, Train Loss: 1.710791144768397, Train Acc: 0.2925, Val Loss: 1.712274537483851, Val Acc: 0.21\n",
      "Fold 1, Epoch 90, Train Loss: 1.7000153770049413, Train Acc: 0.2966666666666667, Val Loss: 1.7098395764827727, Val Acc: 0.2\n",
      "Fold 1, Epoch 100, Train Loss: 1.7026774764060975, Train Acc: 0.2925, Val Loss: 1.709528269370397, Val Acc: 0.22333333333333333\n",
      "Fold 1, Epoch 110, Train Loss: 1.6862020085255305, Train Acc: 0.27416666666666667, Val Loss: 1.7090660770734152, Val Acc: 0.19666666666666666\n",
      "Fold 1, Epoch 120, Train Loss: 1.6760322133700052, Train Acc: 0.29583333333333334, Val Loss: 1.7073910057544708, Val Acc: 0.205\n",
      "Fold 1, Epoch 130, Train Loss: 1.6941116323073706, Train Acc: 0.28, Val Loss: 1.716398944457372, Val Acc: 0.2\n",
      "Early stopping...\n",
      "Completed Fold 1\n",
      "Fold 2\n",
      "Fold 2, Epoch 10, Train Loss: 1.7536380300919214, Train Acc: 0.24, Val Loss: 1.7481540540854137, Val Acc: 0.225\n",
      "Fold 2, Epoch 20, Train Loss: 1.7427132705847421, Train Acc: 0.2808333333333333, Val Loss: 1.7285161038239798, Val Acc: 0.22333333333333333\n",
      "Fold 2, Epoch 30, Train Loss: 1.717819806933403, Train Acc: 0.27166666666666667, Val Loss: 1.73628777662913, Val Acc: 0.19166666666666668\n",
      "Fold 2, Epoch 40, Train Loss: 1.7165738542874653, Train Acc: 0.275, Val Loss: 1.7187980035940806, Val Acc: 0.21166666666666667\n",
      "Early stopping...\n",
      "Completed Fold 2\n",
      "Fold 3\n",
      "Fold 3, Epoch 10, Train Loss: 1.757980461915334, Train Acc: 0.24, Val Loss: 1.7246553202470143, Val Acc: 0.20333333333333334\n",
      "Fold 3, Epoch 20, Train Loss: 1.7402674913406373, Train Acc: 0.23916666666666667, Val Loss: 1.7186764895915985, Val Acc: 0.23166666666666666\n",
      "Fold 3, Epoch 30, Train Loss: 1.739468976855278, Train Acc: 0.2891666666666667, Val Loss: 1.7132486263910929, Val Acc: 0.245\n",
      "Fold 3, Epoch 40, Train Loss: 1.7334187398354213, Train Acc: 0.2725, Val Loss: 1.7007687032222747, Val Acc: 0.24166666666666667\n",
      "Fold 3, Epoch 50, Train Loss: 1.7278744171063105, Train Acc: 0.27666666666666667, Val Loss: 1.6860443313916524, Val Acc: 0.23666666666666666\n",
      "Fold 3, Epoch 60, Train Loss: 1.705073391397794, Train Acc: 0.2733333333333333, Val Loss: 1.676786059141159, Val Acc: 0.23666666666666666\n",
      "Early stopping...\n",
      "Completed Fold 3\n"
     ]
    },
    {
     "data": {
      "image/png": "[encoded data removed]",
      "text/plain": [
       "<Figure size 1000x500 with 2 Axes>"
      ]
     },
     "metadata": {},
     "output_type": "display_data"
    },
    {
     "name": "stdout",
     "output_type": "stream",
     "text": [
      "Model parameters saved to k_fold8qubits_ImprovedGCN_final_model.pkl\n",
      "Accuracies saved to k_fold/8qubits_ImprovedGCN_final_accuracies.npy\n",
      "Loaded Mean Training Accuracy: 0.26805555555555555\n",
      "Loaded Mean Validation Accuracy: 0.24055555555555555\n"
     ]
    }
   ],
   "source": [
    "# Calculate the mean accuracy for training and validation\n",
    "mean_train_acc = np.mean(fold_performance['best_train_acc'])\n",
    "mean_val_acc = np.mean(fold_performance['best_val_acc'])\n",
    "acc_data = {\n",
    "    'mean_train_acc': mean_train_acc,\n",
    "    'mean_val_acc': mean_val_acc}\n",
    "\n",
    "# Define model name and file name\n",
    "model_name = model.__class__.__name__\n",
    "acc_filename = f\"{save_root_dir}/{str(num_qubits).zfill(2)}_qubits_{model_name}_final_accuracies.jb\"\n",
    "model_filename = f\"{save_root_dir}/{str(num_qubits).zfill(2)}_qubits_{model_name}_final_model.jb\"\n",
    "\n",
    "# Save the model parameters\n",
    "joblib.dump(model.state_dict(), model_filename)\n",
    "print(f\"Model parameters saved to {model_filename}\")\n",
    "\n",
    "# Save accuracies\n",
    "joblib.dump(acc_data, acc_filename)\n",
    "print(f\"Accuracies saved to {acc_filename}\")\n",
    "\n",
    "# Loading the accuracies (for verification)\n",
    "loaded_acc_data = joblib.load(acc_filename)\n",
    "print(\"Loaded Mean Training Accuracy:\", loaded_acc_data['mean_train_acc'])\n",
    "print(\"Loaded Mean Validation Accuracy:\", loaded_acc_data['mean_val_acc'])"
   ]
  },
  {
   "cell_type": "markdown",
   "metadata": {},
   "source": "## 3. Training GIN"
  },
  {
   "metadata": {},
   "cell_type": "code",
   "outputs": [],
   "execution_count": null,
   "source": [
    "# 1. Load your dataset and shuffle\n",
    "graphs = load_and_shuffle_dataset()\n",
    "\n",
    "# 2. Determine the number of node features and classes\n",
    "num_node_features = graphs[0].num_node_features\n",
    "num_classes = len(set(graph.y for graph in graphs))\n",
    "\n",
    "# 3. K-Fold Cross Validation setup\n",
    "kfold = KFold(n_splits=3, shuffle=True, random_state=42)"
   ]
  },
  {
   "metadata": {},
   "cell_type": "code",
   "outputs": [],
   "execution_count": null,
   "source": [
    "class GINModel(torch.nn.Module):\n",
    "    def __init__(self, num_node_features, num_classes):\n",
    "        super(GINModel, self).__init__()\n",
    "        nn1 = torch.nn.Sequential(Linear(num_node_features, 64), torch.nn.ReLU(), Linear(64, 64))\n",
    "        self.conv1 = GINConv(nn1)\n",
    "        self.bn1 = torch.nn.BatchNorm1d(64)\n",
    "\n",
    "        nn2 = torch.nn.Sequential(Linear(64, 64), torch.nn.ReLU(), Linear(64, 64))\n",
    "        self.conv2 = GINConv(nn2)\n",
    "        self.bn2 = torch.nn.BatchNorm1d(64)\n",
    "\n",
    "        self.lin = Linear(64, num_classes)\n",
    "\n",
    "    def forward(self, x, edge_index, batch):\n",
    "        x = F.relu(self.conv1(x, edge_index))\n",
    "        x = self.bn1(x)\n",
    "        x = F.relu(self.conv2(x, edge_index))\n",
    "        x = self.bn2(x)\n",
    "\n",
    "        x = global_add_pool(x, batch)\n",
    "        x = F.dropout(x, p=0.5, training=self.training)\n",
    "        x = self.lin(x)\n",
    "\n",
    "        return F.log_softmax(x, dim=-1)"
   ]
  },
  {
   "metadata": {},
   "cell_type": "code",
   "outputs": [],
   "execution_count": null,
   "source": [
    "# Training and validation for each fold\n",
    "fold_performance = {\n",
    "    'train_loss': [],\n",
    "    'val_loss': [],\n",
    "    'train_acc': [],\n",
    "    'val_acc': [],\n",
    "    'best_val_acc': [],\n",
    "    'best_train_acc': []\n",
    "}\n",
    "for fold, (train_idx, val_idx) in enumerate(kfold.split(graphs)):\n",
    "    print(f\"Fold {fold + 1}\")\n",
    "\n",
    "    # Split the training and validation data for the fold and set up a data loader.\n",
    "    train_graphs = [graphs[i] for i in train_idx]\n",
    "    val_graphs = [graphs[i] for i in val_idx]\n",
    "    train_loader = DataLoader(train_graphs, batch_size=10, shuffle=True)\n",
    "    val_loader = DataLoader(val_graphs, batch_size=10, shuffle=False)\n",
    "\n",
    "    # Reinitialize model and optimizer\n",
    "    model = GINModel(num_node_features, num_classes).to(device)\n",
    "    optimizer = torch.optim.Adam(model.parameters(), lr=0.001, weight_decay=5e-4)\n",
    "    criterion = torch.nn.CrossEntropyLoss()\n",
    "    scheduler = StepLR(optimizer, step_size=50, gamma=0.5)\n",
    "\n",
    "    # Training loop\n",
    "    training_losses = []\n",
    "    validation_losses = []\n",
    "    train_acc_history = []\n",
    "    val_acc_history = []\n",
    "    best_val_acc = 0\n",
    "    best_train_acc = 0\n",
    "    early_stopping_counter = 0\n",
    "\n",
    "    # The model is trained at each epoch, and the loss and accuracy rates are calculated and stored. \n",
    "    for epoch in range(1, 300):\n",
    "        train_loss = train(model, train_loader, optimizer, criterion)\n",
    "        train_acc, _ = test(model, train_loader, criterion)\n",
    "        val_acc, val_loss = test(model, val_loader, criterion)\n",
    "\n",
    "        training_losses.append(train_loss)\n",
    "        validation_losses.append(val_loss)\n",
    "        train_acc_history.append(train_acc)\n",
    "        val_acc_history.append(val_acc)\n",
    "\n",
    "        # Check early stopping\n",
    "        stop, best_val_acc, best_train_acc, early_stopping_counter = check_early_stopping(\n",
    "            val_acc, best_val_acc, train_acc, best_train_acc, early_stopping_counter, patience=40)\n",
    "        if stop:\n",
    "            break\n",
    "\n",
    "        scheduler.step()\n",
    "\n",
    "        if epoch % 10 == 0:\n",
    "            print(\n",
    "                f'Fold {fold + 1}, Epoch {epoch}, Train Loss: {train_loss}, Train Acc: {train_acc}, Val Loss: {val_loss}, Val Acc: {val_acc}')\n",
    "\n",
    "    fold_performance['train_loss'].append(training_losses)\n",
    "    fold_performance['val_loss'].append(validation_losses)\n",
    "    fold_performance['train_acc'].append(train_acc_history)\n",
    "    fold_performance['val_acc'].append(val_acc_history)\n",
    "    fold_performance['best_val_acc'].append(best_val_acc)\n",
    "    fold_performance['best_train_acc'].append(best_train_acc)\n",
    "\n",
    "    print(f\"Completed Fold {fold + 1}\")\n",
    "\n",
    "# Find the minimum length across folds to trim the data\n",
    "min_length = min(len(perf) for perf in fold_performance['train_loss'])\n",
    "\n",
    "# 5. Compute average performance\n",
    "avg_train_loss = np.mean([perf[:min_length] for perf in fold_performance['train_loss']], axis=0)\n",
    "avg_val_loss = np.mean([perf[:min_length] for perf in fold_performance['val_loss']], axis=0)\n",
    "avg_train_acc = np.mean([perf[:min_length] for perf in fold_performance['train_acc']], axis=0)\n",
    "avg_val_acc = np.mean([perf[:min_length] for perf in fold_performance['val_acc']], axis=0)"
   ]
  },
  {
   "metadata": {},
   "cell_type": "code",
   "outputs": [],
   "execution_count": null,
   "source": "plot_training_validation_metrics(avg_train_loss, avg_val_loss, avg_train_acc, avg_val_acc)"
  },
  {
   "metadata": {},
   "cell_type": "code",
   "outputs": [],
   "execution_count": null,
   "source": [
    "# Calculate the mean accuracy for training and validation\n",
    "mean_train_acc = np.mean(fold_performance['best_train_acc'])\n",
    "mean_val_acc = np.mean(fold_performance['best_val_acc'])\n",
    "acc_data = {\n",
    "    'mean_train_acc': mean_train_acc,\n",
    "    'mean_val_acc': mean_val_acc}\n",
    "\n",
    "# Define model name and file name\n",
    "model_name = model.__class__.__name__\n",
    "acc_filename = f\"{save_root_dir}/{str(num_qubits).zfill(2)}_qubits_{model_name}_final_accuracies.jb\"\n",
    "model_filename = f\"{save_root_dir}/{str(num_qubits).zfill(2)}_qubits_{model_name}_final_model.jb\"\n",
    "\n",
    "# Save the model parameters\n",
    "joblib.dump(model.state_dict(), model_filename)\n",
    "print(f\"Model parameters saved to {model_filename}\")\n",
    "\n",
    "# Save accuracies\n",
    "joblib.dump(acc_data, acc_filename)\n",
    "print(f\"Accuracies saved to {acc_filename}\")\n",
    "\n",
    "# Loading the accuracies (for verification)\n",
    "loaded_acc_data = joblib.load(acc_filename)\n",
    "print(\"Loaded Mean Training Accuracy:\", loaded_acc_data['mean_train_acc'])\n",
    "print(\"Loaded Mean Validation Accuracy:\", loaded_acc_data['mean_val_acc'])"
   ]
  },
  {
   "cell_type": "markdown",
   "metadata": {},
   "source": "## 4. Training GAT"
  },
  {
   "metadata": {},
   "cell_type": "code",
   "outputs": [],
   "execution_count": null,
   "source": [
    "# 1. Load your dataset and shuffle\n",
    "graphs = load_and_shuffle_dataset()\n",
    "\n",
    "# 2. Determine the number of node features and classes\n",
    "num_node_features = graphs[0].num_node_features\n",
    "num_classes = len(set(graph.y for graph in graphs))\n",
    "\n",
    "# 3. K-Fold Cross Validation setup\n",
    "kfold = KFold(n_splits=3, shuffle=True, random_state=42)"
   ]
  },
  {
   "cell_type": "code",
   "execution_count": 12,
   "metadata": {},
   "outputs": [],
   "source": [
    "class GAT(torch.nn.Module):\n",
    "    def __init__(self, num_node_features, num_classes):\n",
    "        super(GAT, self).__init__()\n",
    "        self.conv1 = GATConv(num_node_features, 64, heads=8, dropout=0.6)\n",
    "        self.conv2 = GATConv(64 * 8, 128, heads=1, concat=False, dropout=0.6)\n",
    "        self.out = Linear(128, num_classes)\n",
    "\n",
    "    def forward(self, x, edge_index, batch):\n",
    "        x = F.dropout(x, p=0.6, training=self.training)\n",
    "        x = F.elu(self.conv1(x, edge_index))\n",
    "        x = F.dropout(x, p=0.6, training=self.training)\n",
    "        x = self.conv2(x, edge_index)\n",
    "        x = global_mean_pool(x, batch)\n",
    "\n",
    "        return F.log_softmax(self.out(x), dim=1)"
   ]
  },
  {
   "metadata": {},
   "cell_type": "code",
   "outputs": [],
   "execution_count": null,
   "source": [
    "# Training and validation for each fold\n",
    "fold_performance = {\n",
    "    'train_loss': [],\n",
    "    'val_loss': [],\n",
    "    'train_acc': [],\n",
    "    'val_acc': [],\n",
    "    'best_val_acc': [],\n",
    "    'best_train_acc': []\n",
    "}\n",
    "for fold, (train_idx, val_idx) in enumerate(kfold.split(graphs)):\n",
    "    print(f\"Fold {fold + 1}\")\n",
    "\n",
    "    # Split the training and validation data for the fold and set up a data loader.\n",
    "    train_graphs = [graphs[i] for i in train_idx]\n",
    "    val_graphs = [graphs[i] for i in val_idx]\n",
    "    train_loader = DataLoader(train_graphs, batch_size=10, shuffle=True)\n",
    "    val_loader = DataLoader(val_graphs, batch_size=10, shuffle=False)\n",
    "\n",
    "    # Reinitialize model and optimizer\n",
    "    model = GAT(num_node_features, num_classes).to(device)\n",
    "    optimizer = torch.optim.Adam(model.parameters(), lr=0.001, weight_decay=5e-4)\n",
    "    criterion = torch.nn.CrossEntropyLoss()\n",
    "    scheduler = StepLR(optimizer, step_size=50, gamma=0.5)\n",
    "\n",
    "    # Training loop\n",
    "    training_losses = []\n",
    "    validation_losses = []\n",
    "    train_acc_history = []\n",
    "    val_acc_history = []\n",
    "    best_val_acc = 0\n",
    "    best_train_acc = 0\n",
    "    early_stopping_counter = 0\n",
    "\n",
    "    # The model is trained at each epoch, and the loss and accuracy rates are calculated and stored. \n",
    "    for epoch in range(1, 300):\n",
    "        train_loss = train(model, train_loader, optimizer, criterion)\n",
    "        train_acc, _ = test(model, train_loader, criterion)\n",
    "        val_acc, val_loss = test(model, val_loader, criterion)\n",
    "\n",
    "        training_losses.append(train_loss)\n",
    "        validation_losses.append(val_loss)\n",
    "        train_acc_history.append(train_acc)\n",
    "        val_acc_history.append(val_acc)\n",
    "\n",
    "        # Check early stopping\n",
    "        stop, best_val_acc, best_train_acc, early_stopping_counter = check_early_stopping(\n",
    "            val_acc, best_val_acc, train_acc, best_train_acc, early_stopping_counter\n",
    "        )\n",
    "        if stop:\n",
    "            break\n",
    "\n",
    "        scheduler.step()\n",
    "\n",
    "        if epoch % 10 == 0:\n",
    "            print(\n",
    "                f'Fold {fold + 1}, Epoch {epoch}, Train Loss: {train_loss}, Train Acc: {train_acc}, Val Loss: {val_loss}, Val Acc: {val_acc}')\n",
    "\n",
    "    fold_performance['train_loss'].append(training_losses)\n",
    "    fold_performance['val_loss'].append(validation_losses)\n",
    "    fold_performance['train_acc'].append(train_acc_history)\n",
    "    fold_performance['val_acc'].append(val_acc_history)\n",
    "    fold_performance['best_val_acc'].append(best_val_acc)\n",
    "    fold_performance['best_train_acc'].append(best_train_acc)\n",
    "\n",
    "    print(f\"Completed Fold {fold + 1}\")\n",
    "\n",
    "# Find the minimum length across folds to trim the data\n",
    "min_length = min(len(perf) for perf in fold_performance['train_loss'])\n",
    "\n",
    "# 5. Compute average performance\n",
    "avg_train_loss = np.mean([perf[:min_length] for perf in fold_performance['train_loss']], axis=0)\n",
    "avg_val_loss = np.mean([perf[:min_length] for perf in fold_performance['val_loss']], axis=0)\n",
    "avg_train_acc = np.mean([perf[:min_length] for perf in fold_performance['train_acc']], axis=0)\n",
    "avg_val_acc = np.mean([perf[:min_length] for perf in fold_performance['val_acc']], axis=0)"
   ]
  },
  {
   "metadata": {},
   "cell_type": "code",
   "outputs": [],
   "execution_count": null,
   "source": "plot_training_validation_metrics(avg_train_loss, avg_val_loss, avg_train_acc, avg_val_acc)"
  },
  {
   "metadata": {},
   "cell_type": "code",
   "outputs": [],
   "execution_count": null,
   "source": [
    "# Calculate the mean accuracy for training and validation\n",
    "mean_train_acc = np.mean(fold_performance['best_train_acc'])\n",
    "mean_val_acc = np.mean(fold_performance['best_val_acc'])\n",
    "acc_data = {\n",
    "    'mean_train_acc': mean_train_acc,\n",
    "    'mean_val_acc': mean_val_acc}\n",
    "\n",
    "# Define model name and file name\n",
    "model_name = model.__class__.__name__\n",
    "acc_filename = f\"{save_root_dir}/{str(num_qubits).zfill(2)}_qubits_{model_name}_final_accuracies.jb\"\n",
    "model_filename = f\"{save_root_dir}/{str(num_qubits).zfill(2)}_qubits_{model_name}_final_model.jb\"\n",
    "\n",
    "# Save the model parameters\n",
    "joblib.dump(model.state_dict(), model_filename)\n",
    "print(f\"Model parameters saved to {model_filename}\")\n",
    "\n",
    "# Save accuracies\n",
    "joblib.dump(acc_data, acc_filename)\n",
    "print(f\"Accuracies saved to {acc_filename}\")\n",
    "\n",
    "# Loading the accuracies (for verification)\n",
    "loaded_acc_data = joblib.load(acc_filename)\n",
    "print(\"Loaded Mean Training Accuracy:\", loaded_acc_data['mean_train_acc'])\n",
    "print(\"Loaded Mean Validation Accuracy:\", loaded_acc_data['mean_val_acc'])"
   ]
  },
  {
   "cell_type": "markdown",
   "metadata": {},
   "source": "## 5. Training GraphSAGE"
  },
  {
   "metadata": {},
   "cell_type": "code",
   "outputs": [],
   "execution_count": null,
   "source": [
    "# 1. Load your dataset and shuffle\n",
    "graphs = load_and_shuffle_dataset()\n",
    "\n",
    "# 2. Determine the number of node features and classes\n",
    "num_node_features = graphs[0].num_node_features\n",
    "num_classes = len(set(graph.y for graph in graphs))\n",
    "\n",
    "# 3. K-Fold Cross Validation setup\n",
    "kfold = KFold(n_splits=3, shuffle=True, random_state=42)"
   ]
  },
  {
   "metadata": {},
   "cell_type": "code",
   "outputs": [],
   "execution_count": null,
   "source": [
    "class GraphSAGE(torch.nn.Module):\n",
    "    def __init__(self, num_node_features, num_classes):\n",
    "        super(GraphSAGE, self).__init__()\n",
    "        self.conv1 = SAGEConv(num_node_features, 64)\n",
    "        self.conv2 = SAGEConv(64, 128)\n",
    "        self.out = Linear(128, num_classes)\n",
    "\n",
    "    def forward(self, x, edge_index, batch):\n",
    "        x = F.relu(self.conv1(x, edge_index))\n",
    "        x = F.dropout(x, training=self.training)\n",
    "        x = F.relu(self.conv2(x, edge_index))\n",
    "        x = global_mean_pool(x, batch)\n",
    "\n",
    "        return F.log_softmax(self.out(x), dim=1)"
   ]
  },
  {
   "metadata": {},
   "cell_type": "code",
   "outputs": [],
   "execution_count": null,
   "source": [
    "# Training and validation for each fold\n",
    "fold_performance = {\n",
    "    'train_loss': [],\n",
    "    'val_loss': [],\n",
    "    'train_acc': [],\n",
    "    'val_acc': [],\n",
    "    'best_val_acc': [],\n",
    "    'best_train_acc': []\n",
    "}\n",
    "for fold, (train_idx, val_idx) in enumerate(kfold.split(graphs)):\n",
    "    print(f\"Fold {fold + 1}\")\n",
    "\n",
    "    # Split the training and validation data for the fold and set up a data loader.\n",
    "    train_graphs = [graphs[i] for i in train_idx]\n",
    "    val_graphs = [graphs[i] for i in val_idx]\n",
    "    train_loader = DataLoader(train_graphs, batch_size=10, shuffle=True)\n",
    "    val_loader = DataLoader(val_graphs, batch_size=10, shuffle=False)\n",
    "\n",
    "    # Reinitialize model and optimizer\n",
    "    model = GraphSAGE(num_node_features, num_classes).to(device)\n",
    "    optimizer = torch.optim.Adam(model.parameters(), lr=0.001, weight_decay=5e-4)\n",
    "    criterion = torch.nn.CrossEntropyLoss()\n",
    "    scheduler = StepLR(optimizer, step_size=50, gamma=0.5)\n",
    "\n",
    "    # Training loop\n",
    "    training_losses = []\n",
    "    validation_losses = []\n",
    "    train_acc_history = []\n",
    "    val_acc_history = []\n",
    "    best_val_acc = 0\n",
    "    best_train_acc = 0\n",
    "    early_stopping_counter = 0\n",
    "\n",
    "    # The model is trained at each epoch, and the loss and accuracy rates are calculated and stored. \n",
    "    for epoch in range(1, 300):\n",
    "        train_loss = train(model, train_loader, optimizer, criterion)\n",
    "        train_acc, _ = test(model, train_loader, criterion)\n",
    "        val_acc, val_loss = test(model, val_loader, criterion)\n",
    "\n",
    "        training_losses.append(train_loss)\n",
    "        validation_losses.append(val_loss)\n",
    "        train_acc_history.append(train_acc)\n",
    "        val_acc_history.append(val_acc)\n",
    "\n",
    "        # Check early stopping\n",
    "        stop, best_val_acc, best_train_acc, early_stopping_counter = check_early_stopping(\n",
    "            val_acc, best_val_acc, train_acc, best_train_acc, early_stopping_counter\n",
    "        )\n",
    "        if stop:\n",
    "            break\n",
    "\n",
    "        scheduler.step()\n",
    "\n",
    "        if epoch % 10 == 0:\n",
    "            print(\n",
    "                f'Fold {fold + 1}, Epoch {epoch}, Train Loss: {train_loss}, Train Acc: {train_acc}, Val Loss: {val_loss}, Val Acc: {val_acc}')\n",
    "\n",
    "    fold_performance['train_loss'].append(training_losses)\n",
    "    fold_performance['val_loss'].append(validation_losses)\n",
    "    fold_performance['train_acc'].append(train_acc_history)\n",
    "    fold_performance['val_acc'].append(val_acc_history)\n",
    "    fold_performance['best_val_acc'].append(best_val_acc)\n",
    "    fold_performance['best_train_acc'].append(best_train_acc)\n",
    "\n",
    "    print(f\"Completed Fold {fold + 1}\")\n",
    "\n",
    "# Find the minimum length across folds to trim the data\n",
    "min_length = min(len(perf) for perf in fold_performance['train_loss'])\n",
    "\n",
    "# 5. Compute average performance\n",
    "avg_train_loss = np.mean([perf[:min_length] for perf in fold_performance['train_loss']], axis=0)\n",
    "avg_val_loss = np.mean([perf[:min_length] for perf in fold_performance['val_loss']], axis=0)\n",
    "avg_train_acc = np.mean([perf[:min_length] for perf in fold_performance['train_acc']], axis=0)\n",
    "avg_val_acc = np.mean([perf[:min_length] for perf in fold_performance['val_acc']], axis=0)"
   ]
  },
  {
   "metadata": {},
   "cell_type": "code",
   "outputs": [],
   "execution_count": null,
   "source": "plot_training_validation_metrics(avg_train_loss, avg_val_loss, avg_train_acc, avg_val_acc)"
  },
  {
   "metadata": {},
   "cell_type": "code",
   "outputs": [],
   "execution_count": null,
   "source": [
    "# Calculate the mean accuracy for training and validation\n",
    "mean_train_acc = np.mean(fold_performance['best_train_acc'])\n",
    "mean_val_acc = np.mean(fold_performance['best_val_acc'])\n",
    "acc_data = {\n",
    "    'mean_train_acc': mean_train_acc,\n",
    "    'mean_val_acc': mean_val_acc}\n",
    "\n",
    "# Define model name and file name\n",
    "model_name = model.__class__.__name__\n",
    "acc_filename = f\"{save_root_dir}/{str(num_qubits).zfill(2)}_qubits_{model_name}_final_accuracies.jb\"\n",
    "model_filename = f\"{save_root_dir}/{str(num_qubits).zfill(2)}_qubits_{model_name}_final_model.jb\"\n",
    "\n",
    "# Save the model parameters\n",
    "joblib.dump(model.state_dict(), model_filename)\n",
    "print(f\"Model parameters saved to {model_filename}\")\n",
    "\n",
    "# Save accuracies\n",
    "joblib.dump(acc_data, acc_filename)\n",
    "print(f\"Accuracies saved to {acc_filename}\")\n",
    "\n",
    "# Loading the accuracies (for verification)\n",
    "loaded_acc_data = joblib.load(acc_filename)\n",
    "print(\"Loaded Mean Training Accuracy:\", loaded_acc_data['mean_train_acc'])\n",
    "print(\"Loaded Mean Validation Accuracy:\", loaded_acc_data['mean_val_acc'])"
   ]
  }
 ],
 "metadata": {
  "interpreter": {
   "hash": "2eeed4123ec0913cbc0091b808e75dd21c7854b9fe8425b00f80ae299bd297a9"
  },
  "kernelspec": {
   "display_name": "Python 3.9.16 ('NK_P')",
   "language": "python",
   "name": "python3"
  },
  "language_info": {
   "codemirror_mode": {
    "name": "ipython",
    "version": 3
   },
   "file_extension": ".py",
   "mimetype": "text/x-python",
   "name": "python",
   "nbconvert_exporter": "python",
   "pygments_lexer": "ipython3",
   "version": "3.9.16"
  },
  "orig_nbformat": 4
 },
 "nbformat": 4,
 "nbformat_minor": 2
}
