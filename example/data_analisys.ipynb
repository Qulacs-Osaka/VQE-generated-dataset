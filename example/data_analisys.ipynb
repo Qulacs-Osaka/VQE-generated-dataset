{
 "cells": [
  {
   "cell_type": "markdown",
   "source": [
    "# Example on analysing the dataset"
   ],
   "metadata": {
    "collapsed": false
   }
  },
  {
   "cell_type": "code",
   "execution_count": 1,
   "outputs": [],
   "source": [
    "import itertools as it\n",
    "\n",
    "import joblib\n",
    "import numpy as np\n",
    "import pandas as pd\n",
    "from qiskit import QuantumCircuit, execute, Aer\n",
    "\n",
    "from utils import qc_reader"
   ],
   "metadata": {
    "collapsed": false
   }
  },
  {
   "cell_type": "code",
   "execution_count": 2,
   "outputs": [],
   "source": [
    "n_qubit = 4"
   ],
   "metadata": {
    "collapsed": false
   }
  },
  {
   "cell_type": "code",
   "execution_count": 3,
   "outputs": [],
   "source": [
    "assert n_qubit in [4, 8, 12, 16], \"Incorrect number of qubits specified\"\n",
    "\n",
    "hamiltonian_names = [\n",
    "    \"1D transverse-field Ising model\",\n",
    "    \"1D Heisenberg model\",\n",
    "    \"Su-Schrieffer-Heeger model\",\n",
    "    \"J1-J2 model\",\n",
    "    \"1D Hubbard model\",\n",
    "    \"2D Hubbard model\",\n",
    "]\n",
    "\n",
    "ansatz_names = [\n",
    "    \"Hamiltonian\",\n",
    "    \"Hardware-efficient\",\n",
    "    \"Complete Hardware-efficient\",\n",
    "    \"Ladder Hardware-efficient\",\n",
    "    \"Cross-Ladder Hardware-efficient\",\n",
    "    \"1D brick-block\",\n",
    "    \"Stair brick-block\",\n",
    "    \"Complete brick-block\",\n",
    "    \"Ladder brick-block\",\n",
    "    \"Cross-Ladder brick-block\",\n",
    "]\n",
    "\n",
    "if n_qubit == 4:\n",
    "    labels = list(range(5))\n",
    "    hamiltonian_names = hamiltonian_names[:-1]\n",
    "else:\n",
    "    labels = list(range(6))"
   ],
   "metadata": {
    "collapsed": false
   }
  },
  {
   "cell_type": "code",
   "execution_count": 4,
   "outputs": [],
   "source": [
    "# load ground state\n",
    "ground_state_list = []\n",
    "for label in labels:\n",
    "    ground_state = joblib.load(f\"../data/ground_state/{str(n_qubit).zfill(2)}qubit/label{label}.jb\")[\"ground_state\"]\n",
    "    ground_state_list.append(ground_state)"
   ],
   "metadata": {
    "collapsed": false
   }
  },
  {
   "cell_type": "code",
   "execution_count": 5,
   "outputs": [],
   "source": [
    "# load qasm_data\n",
    "qasm_datas, hamiltonian_labels = qc_reader.load_qc(path=\"../data/qasm\", n_qubit=n_qubit, label_kind=\"hamiltonian\")\n",
    "_, ansatz_labels = qc_reader.load_qc(path=\"../data/qasm\", n_qubit=n_qubit, label_kind=\"ansatz\")\n",
    "_, reps_labels = qc_reader.load_qc(path=\"../data/qasm\", n_qubit=n_qubit, label_kind=\"ansatz_reps\")"
   ],
   "metadata": {
    "collapsed": false
   }
  },
  {
   "cell_type": "code",
   "execution_count": 6,
   "outputs": [],
   "source": [
    "def get_state_from_qasm(qasm_str: str):\n",
    "    # convert qasm to QuantumCircuit object\n",
    "    qc = QuantumCircuit.from_qasm_str(qasm_str)\n",
    "    job = execute(qc, Aer.get_backend('statevector_simulator'))\n",
    "    state = job.result().get_statevector()\n",
    "\n",
    "    return state"
   ],
   "metadata": {
    "collapsed": false
   }
  },
  {
   "cell_type": "code",
   "execution_count": 7,
   "outputs": [
    {
     "name": "stdout",
     "output_type": "stream",
     "text": [
      "Converting: 100.00%"
     ]
    }
   ],
   "source": [
    "rows = []\n",
    "for i, qasm_str, hamiltonian_label, ansatz_label, reps_label in zip(list(range(len(qasm_datas))), qasm_datas,\n",
    "                                                                    hamiltonian_labels, ansatz_labels, reps_labels):\n",
    "    progress_str = f\"Converting: {(i + 1) / len(qasm_datas) * 100:.2f}%\"\n",
    "    print(\"\\r\"+str(progress_str),end=\"\")\n",
    "    state = get_state_from_qasm(qasm_str=qasm_str)\n",
    "    fidelity = np.abs(np.vdot(state, ground_state_list[hamiltonian_label])) ** 2\n",
    "    ansatz_reps = reps_label + 3\n",
    "\n",
    "    row = [n_qubit, hamiltonian_names[hamiltonian_label], ansatz_names[ansatz_label], ansatz_reps, fidelity, state]\n",
    "    rows.append(row)"
   ],
   "metadata": {
    "collapsed": false
   }
  },
  {
   "cell_type": "markdown",
   "source": [
    "## All data"
   ],
   "metadata": {
    "collapsed": false
   }
  },
  {
   "cell_type": "code",
   "execution_count": 8,
   "outputs": [
    {
     "data": {
      "text/plain": "      qubit                      hamiltonian                    ansatz  reps  \\\n0         4  1D transverse-field Ising model               Hamiltonian     3   \n1         4  1D transverse-field Ising model               Hamiltonian     4   \n2         4  1D transverse-field Ising model               Hamiltonian     5   \n3         4  1D transverse-field Ising model               Hamiltonian     6   \n4         4  1D transverse-field Ising model               Hamiltonian     7   \n...     ...                              ...                       ...   ...   \n1495      4                 1D Hubbard model  Cross-Ladder brick-block    28   \n1496      4                 1D Hubbard model  Cross-Ladder brick-block    29   \n1497      4                 1D Hubbard model  Cross-Ladder brick-block    30   \n1498      4                 1D Hubbard model  Cross-Ladder brick-block    31   \n1499      4                 1D Hubbard model  Cross-Ladder brick-block    32   \n\n      fidelity with ground state  \\\n0                            1.0   \n1                            1.0   \n2                            1.0   \n3                            1.0   \n4                            1.0   \n...                          ...   \n1495                         1.0   \n1496                         1.0   \n1497                         1.0   \n1498                         1.0   \n1499                         1.0   \n\n                                                  state  \n0     ((0.010799235943719676-0.16852944722144272j), ...  \n1     ((0.10026300279531955+0.1358906112183908j), (-...  \n2     ((-0.11359210523192395+0.12496423439396644j), ...  \n3     ((-0.167520358178403-0.02132770621866116j), (0...  \n4     ((0.16758759327079617+0.020760810282311998j), ...  \n...                                                 ...  \n1495  ((-1.6429562503371182e-09+0j), (3.917867114067...  \n1496  ((1.9972267541837147e-08+0j), (-5.819322479450...  \n1497  ((-6.160791634908235e-08+0j), (-3.762825245834...  \n1498  ((1.5070955209037402e-07+0j), (-1.134420607451...  \n1499  ((9.706077406798143e-10+0j), (7.71525001108663...  \n\n[1500 rows x 6 columns]",
      "text/html": "<div>\n<style scoped>\n    .dataframe tbody tr th:only-of-type {\n        vertical-align: middle;\n    }\n\n    .dataframe tbody tr th {\n        vertical-align: top;\n    }\n\n    .dataframe thead th {\n        text-align: right;\n    }\n</style>\n<table border=\"1\" class=\"dataframe\">\n  <thead>\n    <tr style=\"text-align: right;\">\n      <th></th>\n      <th>qubit</th>\n      <th>hamiltonian</th>\n      <th>ansatz</th>\n      <th>reps</th>\n      <th>fidelity with ground state</th>\n      <th>state</th>\n    </tr>\n  </thead>\n  <tbody>\n    <tr>\n      <th>0</th>\n      <td>4</td>\n      <td>1D transverse-field Ising model</td>\n      <td>Hamiltonian</td>\n      <td>3</td>\n      <td>1.0</td>\n      <td>((0.010799235943719676-0.16852944722144272j), ...</td>\n    </tr>\n    <tr>\n      <th>1</th>\n      <td>4</td>\n      <td>1D transverse-field Ising model</td>\n      <td>Hamiltonian</td>\n      <td>4</td>\n      <td>1.0</td>\n      <td>((0.10026300279531955+0.1358906112183908j), (-...</td>\n    </tr>\n    <tr>\n      <th>2</th>\n      <td>4</td>\n      <td>1D transverse-field Ising model</td>\n      <td>Hamiltonian</td>\n      <td>5</td>\n      <td>1.0</td>\n      <td>((-0.11359210523192395+0.12496423439396644j), ...</td>\n    </tr>\n    <tr>\n      <th>3</th>\n      <td>4</td>\n      <td>1D transverse-field Ising model</td>\n      <td>Hamiltonian</td>\n      <td>6</td>\n      <td>1.0</td>\n      <td>((-0.167520358178403-0.02132770621866116j), (0...</td>\n    </tr>\n    <tr>\n      <th>4</th>\n      <td>4</td>\n      <td>1D transverse-field Ising model</td>\n      <td>Hamiltonian</td>\n      <td>7</td>\n      <td>1.0</td>\n      <td>((0.16758759327079617+0.020760810282311998j), ...</td>\n    </tr>\n    <tr>\n      <th>...</th>\n      <td>...</td>\n      <td>...</td>\n      <td>...</td>\n      <td>...</td>\n      <td>...</td>\n      <td>...</td>\n    </tr>\n    <tr>\n      <th>1495</th>\n      <td>4</td>\n      <td>1D Hubbard model</td>\n      <td>Cross-Ladder brick-block</td>\n      <td>28</td>\n      <td>1.0</td>\n      <td>((-1.6429562503371182e-09+0j), (3.917867114067...</td>\n    </tr>\n    <tr>\n      <th>1496</th>\n      <td>4</td>\n      <td>1D Hubbard model</td>\n      <td>Cross-Ladder brick-block</td>\n      <td>29</td>\n      <td>1.0</td>\n      <td>((1.9972267541837147e-08+0j), (-5.819322479450...</td>\n    </tr>\n    <tr>\n      <th>1497</th>\n      <td>4</td>\n      <td>1D Hubbard model</td>\n      <td>Cross-Ladder brick-block</td>\n      <td>30</td>\n      <td>1.0</td>\n      <td>((-6.160791634908235e-08+0j), (-3.762825245834...</td>\n    </tr>\n    <tr>\n      <th>1498</th>\n      <td>4</td>\n      <td>1D Hubbard model</td>\n      <td>Cross-Ladder brick-block</td>\n      <td>31</td>\n      <td>1.0</td>\n      <td>((1.5070955209037402e-07+0j), (-1.134420607451...</td>\n    </tr>\n    <tr>\n      <th>1499</th>\n      <td>4</td>\n      <td>1D Hubbard model</td>\n      <td>Cross-Ladder brick-block</td>\n      <td>32</td>\n      <td>1.0</td>\n      <td>((9.706077406798143e-10+0j), (7.71525001108663...</td>\n    </tr>\n  </tbody>\n</table>\n<p>1500 rows × 6 columns</p>\n</div>"
     },
     "execution_count": 8,
     "metadata": {},
     "output_type": "execute_result"
    }
   ],
   "source": [
    "col = [\"qubit\", \"hamiltonian\", \"ansatz\", \"reps\", \"fidelity with ground state\", \"state\"]\n",
    "df = pd.DataFrame(rows, columns=col)\n",
    "df"
   ],
   "metadata": {
    "collapsed": false
   }
  },
  {
   "cell_type": "markdown",
   "source": [
    "## data grouped by ansatz"
   ],
   "metadata": {
    "collapsed": false
   }
  },
  {
   "cell_type": "code",
   "execution_count": 9,
   "outputs": [],
   "source": [
    "def get_fidelity_from_state_list(state_list) -> np.ndarray:\n",
    "    \"\"\"state_listから2つを選ぶ全ての組み合わせについて、Fidelityを求める\"\"\"\n",
    "    fidelity_list = []\n",
    "    for i, (state1, state2) in enumerate(it.combinations(state_list, 2)):\n",
    "        fidelity = np.abs(np.vdot(state1, state2)) ** 2\n",
    "        fidelity_list.append(fidelity)\n",
    "    return np.array(fidelity_list)\n",
    "\n",
    "\n",
    "def get_analysis_info(df: pd.DataFrame, hamiltonian_name, qubit, ansatz_name=None):\n",
    "    if ansatz_name:\n",
    "        _df = df.query(f\"hamiltonian=='{hamiltonian_name}' & ansatz=='{ansatz_name}'\")\n",
    "    else:\n",
    "        _df = df.query(f\"hamiltonian=='{hamiltonian_name}'\")\n",
    "\n",
    "    if ansatz_name:\n",
    "        result = [qubit, hamiltonian_name, ansatz_name]\n",
    "    else:\n",
    "        result = [qubit, hamiltonian_name]\n",
    "\n",
    "    fidelity = _df[\"fidelity with ground state\"].values\n",
    "    fidelity_diff = get_fidelity_from_state_list(state_list=_df.state.values)\n",
    "    result += [fidelity_diff.mean(), fidelity_diff.std(), fidelity_diff.max(),\n",
    "               fidelity_diff.min(), fidelity.mean(), fidelity.std(), fidelity.max(),\n",
    "               fidelity.min()]\n",
    "    return result"
   ],
   "metadata": {
    "collapsed": false
   }
  },
  {
   "cell_type": "code",
   "execution_count": 10,
   "outputs": [
    {
     "data": {
      "text/plain": "    qubit                      hamiltonian                           ansatz  \\\n0       4  1D transverse-field Ising model                      Hamiltonian   \n1       4  1D transverse-field Ising model               Hardware-efficient   \n2       4  1D transverse-field Ising model      Complete Hardware-efficient   \n3       4  1D transverse-field Ising model        Ladder Hardware-efficient   \n4       4  1D transverse-field Ising model  Cross-Ladder Hardware-efficient   \n5       4  1D transverse-field Ising model                   1D brick-block   \n6       4  1D transverse-field Ising model                Stair brick-block   \n7       4  1D transverse-field Ising model             Complete brick-block   \n8       4  1D transverse-field Ising model               Ladder brick-block   \n9       4  1D transverse-field Ising model         Cross-Ladder brick-block   \n10      4              1D Heisenberg model                      Hamiltonian   \n11      4              1D Heisenberg model               Hardware-efficient   \n12      4              1D Heisenberg model      Complete Hardware-efficient   \n13      4              1D Heisenberg model        Ladder Hardware-efficient   \n14      4              1D Heisenberg model  Cross-Ladder Hardware-efficient   \n15      4              1D Heisenberg model                   1D brick-block   \n16      4              1D Heisenberg model                Stair brick-block   \n17      4              1D Heisenberg model             Complete brick-block   \n18      4              1D Heisenberg model               Ladder brick-block   \n19      4              1D Heisenberg model         Cross-Ladder brick-block   \n20      4       Su-Schrieffer-Heeger model                      Hamiltonian   \n21      4       Su-Schrieffer-Heeger model               Hardware-efficient   \n22      4       Su-Schrieffer-Heeger model      Complete Hardware-efficient   \n23      4       Su-Schrieffer-Heeger model        Ladder Hardware-efficient   \n24      4       Su-Schrieffer-Heeger model  Cross-Ladder Hardware-efficient   \n25      4       Su-Schrieffer-Heeger model                   1D brick-block   \n26      4       Su-Schrieffer-Heeger model                Stair brick-block   \n27      4       Su-Schrieffer-Heeger model             Complete brick-block   \n28      4       Su-Schrieffer-Heeger model               Ladder brick-block   \n29      4       Su-Schrieffer-Heeger model         Cross-Ladder brick-block   \n30      4                      J1-J2 model                      Hamiltonian   \n31      4                      J1-J2 model               Hardware-efficient   \n32      4                      J1-J2 model      Complete Hardware-efficient   \n33      4                      J1-J2 model        Ladder Hardware-efficient   \n34      4                      J1-J2 model  Cross-Ladder Hardware-efficient   \n35      4                      J1-J2 model                   1D brick-block   \n36      4                      J1-J2 model                Stair brick-block   \n37      4                      J1-J2 model             Complete brick-block   \n38      4                      J1-J2 model               Ladder brick-block   \n39      4                      J1-J2 model         Cross-Ladder brick-block   \n40      4                 1D Hubbard model                      Hamiltonian   \n41      4                 1D Hubbard model               Hardware-efficient   \n42      4                 1D Hubbard model      Complete Hardware-efficient   \n43      4                 1D Hubbard model        Ladder Hardware-efficient   \n44      4                 1D Hubbard model  Cross-Ladder Hardware-efficient   \n45      4                 1D Hubbard model                   1D brick-block   \n46      4                 1D Hubbard model                Stair brick-block   \n47      4                 1D Hubbard model             Complete brick-block   \n48      4                 1D Hubbard model               Ladder brick-block   \n49      4                 1D Hubbard model         Cross-Ladder brick-block   \n\n    mean of fidelity each data           std       max           min  \\\n0                     1.000000  1.871079e-09  1.000000  1.000000e+00   \n1                     1.000000  5.826096e-12  1.000000  1.000000e+00   \n2                     1.000000  1.245515e-12  1.000000  1.000000e+00   \n3                     1.000000  4.854841e-12  1.000000  1.000000e+00   \n4                     1.000000  3.348762e-12  1.000000  1.000000e+00   \n5                     1.000000  8.317790e-14  1.000000  1.000000e+00   \n6                     1.000000  8.546785e-14  1.000000  1.000000e+00   \n7                     1.000000  5.371589e-14  1.000000  1.000000e+00   \n8                     1.000000  8.012512e-14  1.000000  1.000000e+00   \n9                     1.000000  1.529571e-13  1.000000  1.000000e+00   \n10                    1.000000  3.053252e-12  1.000000  1.000000e+00   \n11                    1.000000  3.153768e-12  1.000000  1.000000e+00   \n12                    1.000000  2.191789e-12  1.000000  1.000000e+00   \n13                    1.000000  1.868450e-12  1.000000  1.000000e+00   \n14                    1.000000  2.909156e-12  1.000000  1.000000e+00   \n15                    1.000000  2.285929e-13  1.000000  1.000000e+00   \n16                    1.000000  1.952688e-13  1.000000  1.000000e+00   \n17                    1.000000  1.385880e-13  1.000000  1.000000e+00   \n18                    1.000000  8.046298e-14  1.000000  1.000000e+00   \n19                    1.000000  1.417066e-13  1.000000  1.000000e+00   \n20                    1.000000  2.181336e-13  1.000000  1.000000e+00   \n21                    1.000000  4.145536e-13  1.000000  1.000000e+00   \n22                    1.000000  3.113497e-13  1.000000  1.000000e+00   \n23                    0.324143  2.948351e-01  0.994259  4.843456e-07   \n24                    1.000000  2.794490e-13  1.000000  1.000000e+00   \n25                    1.000000  2.518224e-14  1.000000  1.000000e+00   \n26                    1.000000  2.267612e-14  1.000000  1.000000e+00   \n27                    1.000000  7.278328e-14  1.000000  1.000000e+00   \n28                    1.000000  1.902657e-14  1.000000  1.000000e+00   \n29                    1.000000  4.170447e-14  1.000000  1.000000e+00   \n30                    1.000000  3.769482e-14  1.000000  1.000000e+00   \n31                    1.000000  1.069753e-13  1.000000  1.000000e+00   \n32                    1.000000  1.788610e-13  1.000000  1.000000e+00   \n33                    0.331583  2.978608e-01  0.995690  1.857765e-06   \n34                    1.000000  6.963513e-14  1.000000  1.000000e+00   \n35                    1.000000  2.869131e-14  1.000000  1.000000e+00   \n36                    1.000000  2.540762e-14  1.000000  1.000000e+00   \n37                    1.000000  3.564017e-14  1.000000  1.000000e+00   \n38                    1.000000  2.212674e-14  1.000000  1.000000e+00   \n39                    1.000000  1.898576e-14  1.000000  1.000000e+00   \n40                    1.000000  4.875284e-10  1.000000  1.000000e+00   \n41                    1.000000  3.471551e-11  1.000000  1.000000e+00   \n42                    1.000000  3.544288e-11  1.000000  1.000000e+00   \n43                    1.000000  5.004394e-11  1.000000  1.000000e+00   \n44                    1.000000  1.686315e-11  1.000000  1.000000e+00   \n45                    1.000000  1.664714e-12  1.000000  1.000000e+00   \n46                    1.000000  1.181620e-12  1.000000  1.000000e+00   \n47                    1.000000  1.641550e-12  1.000000  1.000000e+00   \n48                    1.000000  3.913527e-12  1.000000  1.000000e+00   \n49                    1.000000  1.029247e-12  1.000000  1.000000e+00   \n\n    mean of fidelity with ground state           std       max       min  \n0                             1.000000  1.383530e-09  1.000000  1.000000  \n1                             1.000000  4.135750e-12  1.000000  1.000000  \n2                             1.000000  8.562325e-13  1.000000  1.000000  \n3                             0.998828  5.559192e-09  0.998829  0.998828  \n4                             1.000000  2.360841e-12  1.000000  1.000000  \n5                             1.000000  5.873805e-14  1.000000  1.000000  \n6                             1.000000  6.102303e-14  1.000000  1.000000  \n7                             1.000000  3.494923e-14  1.000000  1.000000  \n8                             1.000000  5.638688e-14  1.000000  1.000000  \n9                             1.000000  1.074726e-13  1.000000  1.000000  \n10                            1.000000  2.098930e-12  1.000000  1.000000  \n11                            1.000000  2.030412e-12  1.000000  1.000000  \n12                            1.000000  1.456404e-12  1.000000  1.000000  \n13                            1.000000  1.257398e-12  1.000000  1.000000  \n14                            1.000000  2.053840e-12  1.000000  1.000000  \n15                            1.000000  1.593029e-13  1.000000  1.000000  \n16                            1.000000  1.361888e-13  1.000000  1.000000  \n17                            1.000000  9.999641e-14  1.000000  1.000000  \n18                            1.000000  5.864831e-14  1.000000  1.000000  \n19                            1.000000  1.018967e-13  1.000000  1.000000  \n20                            1.000000  1.591731e-13  1.000000  1.000000  \n21                            1.000000  2.994499e-13  1.000000  1.000000  \n22                            1.000000  2.171543e-13  1.000000  1.000000  \n23                            0.500000  8.850634e-13  0.500000  0.500000  \n24                            1.000000  1.987638e-13  1.000000  1.000000  \n25                            1.000000  1.709513e-14  1.000000  1.000000  \n26                            1.000000  1.595683e-14  1.000000  1.000000  \n27                            1.000000  4.745681e-14  1.000000  1.000000  \n28                            1.000000  1.285978e-14  1.000000  1.000000  \n29                            1.000000  2.925835e-14  1.000000  1.000000  \n30                            1.000000  2.625596e-14  1.000000  1.000000  \n31                            1.000000  7.577399e-14  1.000000  1.000000  \n32                            1.000000  1.284793e-13  1.000000  1.000000  \n33                            0.500000  1.731841e-13  0.500000  0.500000  \n34                            1.000000  4.872243e-14  1.000000  1.000000  \n35                            1.000000  2.042688e-14  1.000000  1.000000  \n36                            1.000000  1.721657e-14  1.000000  1.000000  \n37                            1.000000  2.428805e-14  1.000000  1.000000  \n38                            1.000000  1.483362e-14  1.000000  1.000000  \n39                            1.000000  1.271387e-14  1.000000  1.000000  \n40                            1.000000  3.356342e-10  1.000000  1.000000  \n41                            1.000000  2.503575e-11  1.000000  1.000000  \n42                            1.000000  2.416420e-11  1.000000  1.000000  \n43                            0.985071  3.248005e-11  0.985071  0.985071  \n44                            1.000000  9.871071e-12  1.000000  1.000000  \n45                            1.000000  1.142078e-12  1.000000  1.000000  \n46                            1.000000  8.765514e-13  1.000000  1.000000  \n47                            1.000000  1.202372e-12  1.000000  1.000000  \n48                            1.000000  2.673351e-12  1.000000  1.000000  \n49                            1.000000  7.391395e-13  1.000000  1.000000  ",
      "text/html": "<div>\n<style scoped>\n    .dataframe tbody tr th:only-of-type {\n        vertical-align: middle;\n    }\n\n    .dataframe tbody tr th {\n        vertical-align: top;\n    }\n\n    .dataframe thead th {\n        text-align: right;\n    }\n</style>\n<table border=\"1\" class=\"dataframe\">\n  <thead>\n    <tr style=\"text-align: right;\">\n      <th></th>\n      <th>qubit</th>\n      <th>hamiltonian</th>\n      <th>ansatz</th>\n      <th>mean of fidelity each data</th>\n      <th>std</th>\n      <th>max</th>\n      <th>min</th>\n      <th>mean of fidelity with ground state</th>\n      <th>std</th>\n      <th>max</th>\n      <th>min</th>\n    </tr>\n  </thead>\n  <tbody>\n    <tr>\n      <th>0</th>\n      <td>4</td>\n      <td>1D transverse-field Ising model</td>\n      <td>Hamiltonian</td>\n      <td>1.000000</td>\n      <td>1.871079e-09</td>\n      <td>1.000000</td>\n      <td>1.000000e+00</td>\n      <td>1.000000</td>\n      <td>1.383530e-09</td>\n      <td>1.000000</td>\n      <td>1.000000</td>\n    </tr>\n    <tr>\n      <th>1</th>\n      <td>4</td>\n      <td>1D transverse-field Ising model</td>\n      <td>Hardware-efficient</td>\n      <td>1.000000</td>\n      <td>5.826096e-12</td>\n      <td>1.000000</td>\n      <td>1.000000e+00</td>\n      <td>1.000000</td>\n      <td>4.135750e-12</td>\n      <td>1.000000</td>\n      <td>1.000000</td>\n    </tr>\n    <tr>\n      <th>2</th>\n      <td>4</td>\n      <td>1D transverse-field Ising model</td>\n      <td>Complete Hardware-efficient</td>\n      <td>1.000000</td>\n      <td>1.245515e-12</td>\n      <td>1.000000</td>\n      <td>1.000000e+00</td>\n      <td>1.000000</td>\n      <td>8.562325e-13</td>\n      <td>1.000000</td>\n      <td>1.000000</td>\n    </tr>\n    <tr>\n      <th>3</th>\n      <td>4</td>\n      <td>1D transverse-field Ising model</td>\n      <td>Ladder Hardware-efficient</td>\n      <td>1.000000</td>\n      <td>4.854841e-12</td>\n      <td>1.000000</td>\n      <td>1.000000e+00</td>\n      <td>0.998828</td>\n      <td>5.559192e-09</td>\n      <td>0.998829</td>\n      <td>0.998828</td>\n    </tr>\n    <tr>\n      <th>4</th>\n      <td>4</td>\n      <td>1D transverse-field Ising model</td>\n      <td>Cross-Ladder Hardware-efficient</td>\n      <td>1.000000</td>\n      <td>3.348762e-12</td>\n      <td>1.000000</td>\n      <td>1.000000e+00</td>\n      <td>1.000000</td>\n      <td>2.360841e-12</td>\n      <td>1.000000</td>\n      <td>1.000000</td>\n    </tr>\n    <tr>\n      <th>5</th>\n      <td>4</td>\n      <td>1D transverse-field Ising model</td>\n      <td>1D brick-block</td>\n      <td>1.000000</td>\n      <td>8.317790e-14</td>\n      <td>1.000000</td>\n      <td>1.000000e+00</td>\n      <td>1.000000</td>\n      <td>5.873805e-14</td>\n      <td>1.000000</td>\n      <td>1.000000</td>\n    </tr>\n    <tr>\n      <th>6</th>\n      <td>4</td>\n      <td>1D transverse-field Ising model</td>\n      <td>Stair brick-block</td>\n      <td>1.000000</td>\n      <td>8.546785e-14</td>\n      <td>1.000000</td>\n      <td>1.000000e+00</td>\n      <td>1.000000</td>\n      <td>6.102303e-14</td>\n      <td>1.000000</td>\n      <td>1.000000</td>\n    </tr>\n    <tr>\n      <th>7</th>\n      <td>4</td>\n      <td>1D transverse-field Ising model</td>\n      <td>Complete brick-block</td>\n      <td>1.000000</td>\n      <td>5.371589e-14</td>\n      <td>1.000000</td>\n      <td>1.000000e+00</td>\n      <td>1.000000</td>\n      <td>3.494923e-14</td>\n      <td>1.000000</td>\n      <td>1.000000</td>\n    </tr>\n    <tr>\n      <th>8</th>\n      <td>4</td>\n      <td>1D transverse-field Ising model</td>\n      <td>Ladder brick-block</td>\n      <td>1.000000</td>\n      <td>8.012512e-14</td>\n      <td>1.000000</td>\n      <td>1.000000e+00</td>\n      <td>1.000000</td>\n      <td>5.638688e-14</td>\n      <td>1.000000</td>\n      <td>1.000000</td>\n    </tr>\n    <tr>\n      <th>9</th>\n      <td>4</td>\n      <td>1D transverse-field Ising model</td>\n      <td>Cross-Ladder brick-block</td>\n      <td>1.000000</td>\n      <td>1.529571e-13</td>\n      <td>1.000000</td>\n      <td>1.000000e+00</td>\n      <td>1.000000</td>\n      <td>1.074726e-13</td>\n      <td>1.000000</td>\n      <td>1.000000</td>\n    </tr>\n    <tr>\n      <th>10</th>\n      <td>4</td>\n      <td>1D Heisenberg model</td>\n      <td>Hamiltonian</td>\n      <td>1.000000</td>\n      <td>3.053252e-12</td>\n      <td>1.000000</td>\n      <td>1.000000e+00</td>\n      <td>1.000000</td>\n      <td>2.098930e-12</td>\n      <td>1.000000</td>\n      <td>1.000000</td>\n    </tr>\n    <tr>\n      <th>11</th>\n      <td>4</td>\n      <td>1D Heisenberg model</td>\n      <td>Hardware-efficient</td>\n      <td>1.000000</td>\n      <td>3.153768e-12</td>\n      <td>1.000000</td>\n      <td>1.000000e+00</td>\n      <td>1.000000</td>\n      <td>2.030412e-12</td>\n      <td>1.000000</td>\n      <td>1.000000</td>\n    </tr>\n    <tr>\n      <th>12</th>\n      <td>4</td>\n      <td>1D Heisenberg model</td>\n      <td>Complete Hardware-efficient</td>\n      <td>1.000000</td>\n      <td>2.191789e-12</td>\n      <td>1.000000</td>\n      <td>1.000000e+00</td>\n      <td>1.000000</td>\n      <td>1.456404e-12</td>\n      <td>1.000000</td>\n      <td>1.000000</td>\n    </tr>\n    <tr>\n      <th>13</th>\n      <td>4</td>\n      <td>1D Heisenberg model</td>\n      <td>Ladder Hardware-efficient</td>\n      <td>1.000000</td>\n      <td>1.868450e-12</td>\n      <td>1.000000</td>\n      <td>1.000000e+00</td>\n      <td>1.000000</td>\n      <td>1.257398e-12</td>\n      <td>1.000000</td>\n      <td>1.000000</td>\n    </tr>\n    <tr>\n      <th>14</th>\n      <td>4</td>\n      <td>1D Heisenberg model</td>\n      <td>Cross-Ladder Hardware-efficient</td>\n      <td>1.000000</td>\n      <td>2.909156e-12</td>\n      <td>1.000000</td>\n      <td>1.000000e+00</td>\n      <td>1.000000</td>\n      <td>2.053840e-12</td>\n      <td>1.000000</td>\n      <td>1.000000</td>\n    </tr>\n    <tr>\n      <th>15</th>\n      <td>4</td>\n      <td>1D Heisenberg model</td>\n      <td>1D brick-block</td>\n      <td>1.000000</td>\n      <td>2.285929e-13</td>\n      <td>1.000000</td>\n      <td>1.000000e+00</td>\n      <td>1.000000</td>\n      <td>1.593029e-13</td>\n      <td>1.000000</td>\n      <td>1.000000</td>\n    </tr>\n    <tr>\n      <th>16</th>\n      <td>4</td>\n      <td>1D Heisenberg model</td>\n      <td>Stair brick-block</td>\n      <td>1.000000</td>\n      <td>1.952688e-13</td>\n      <td>1.000000</td>\n      <td>1.000000e+00</td>\n      <td>1.000000</td>\n      <td>1.361888e-13</td>\n      <td>1.000000</td>\n      <td>1.000000</td>\n    </tr>\n    <tr>\n      <th>17</th>\n      <td>4</td>\n      <td>1D Heisenberg model</td>\n      <td>Complete brick-block</td>\n      <td>1.000000</td>\n      <td>1.385880e-13</td>\n      <td>1.000000</td>\n      <td>1.000000e+00</td>\n      <td>1.000000</td>\n      <td>9.999641e-14</td>\n      <td>1.000000</td>\n      <td>1.000000</td>\n    </tr>\n    <tr>\n      <th>18</th>\n      <td>4</td>\n      <td>1D Heisenberg model</td>\n      <td>Ladder brick-block</td>\n      <td>1.000000</td>\n      <td>8.046298e-14</td>\n      <td>1.000000</td>\n      <td>1.000000e+00</td>\n      <td>1.000000</td>\n      <td>5.864831e-14</td>\n      <td>1.000000</td>\n      <td>1.000000</td>\n    </tr>\n    <tr>\n      <th>19</th>\n      <td>4</td>\n      <td>1D Heisenberg model</td>\n      <td>Cross-Ladder brick-block</td>\n      <td>1.000000</td>\n      <td>1.417066e-13</td>\n      <td>1.000000</td>\n      <td>1.000000e+00</td>\n      <td>1.000000</td>\n      <td>1.018967e-13</td>\n      <td>1.000000</td>\n      <td>1.000000</td>\n    </tr>\n    <tr>\n      <th>20</th>\n      <td>4</td>\n      <td>Su-Schrieffer-Heeger model</td>\n      <td>Hamiltonian</td>\n      <td>1.000000</td>\n      <td>2.181336e-13</td>\n      <td>1.000000</td>\n      <td>1.000000e+00</td>\n      <td>1.000000</td>\n      <td>1.591731e-13</td>\n      <td>1.000000</td>\n      <td>1.000000</td>\n    </tr>\n    <tr>\n      <th>21</th>\n      <td>4</td>\n      <td>Su-Schrieffer-Heeger model</td>\n      <td>Hardware-efficient</td>\n      <td>1.000000</td>\n      <td>4.145536e-13</td>\n      <td>1.000000</td>\n      <td>1.000000e+00</td>\n      <td>1.000000</td>\n      <td>2.994499e-13</td>\n      <td>1.000000</td>\n      <td>1.000000</td>\n    </tr>\n    <tr>\n      <th>22</th>\n      <td>4</td>\n      <td>Su-Schrieffer-Heeger model</td>\n      <td>Complete Hardware-efficient</td>\n      <td>1.000000</td>\n      <td>3.113497e-13</td>\n      <td>1.000000</td>\n      <td>1.000000e+00</td>\n      <td>1.000000</td>\n      <td>2.171543e-13</td>\n      <td>1.000000</td>\n      <td>1.000000</td>\n    </tr>\n    <tr>\n      <th>23</th>\n      <td>4</td>\n      <td>Su-Schrieffer-Heeger model</td>\n      <td>Ladder Hardware-efficient</td>\n      <td>0.324143</td>\n      <td>2.948351e-01</td>\n      <td>0.994259</td>\n      <td>4.843456e-07</td>\n      <td>0.500000</td>\n      <td>8.850634e-13</td>\n      <td>0.500000</td>\n      <td>0.500000</td>\n    </tr>\n    <tr>\n      <th>24</th>\n      <td>4</td>\n      <td>Su-Schrieffer-Heeger model</td>\n      <td>Cross-Ladder Hardware-efficient</td>\n      <td>1.000000</td>\n      <td>2.794490e-13</td>\n      <td>1.000000</td>\n      <td>1.000000e+00</td>\n      <td>1.000000</td>\n      <td>1.987638e-13</td>\n      <td>1.000000</td>\n      <td>1.000000</td>\n    </tr>\n    <tr>\n      <th>25</th>\n      <td>4</td>\n      <td>Su-Schrieffer-Heeger model</td>\n      <td>1D brick-block</td>\n      <td>1.000000</td>\n      <td>2.518224e-14</td>\n      <td>1.000000</td>\n      <td>1.000000e+00</td>\n      <td>1.000000</td>\n      <td>1.709513e-14</td>\n      <td>1.000000</td>\n      <td>1.000000</td>\n    </tr>\n    <tr>\n      <th>26</th>\n      <td>4</td>\n      <td>Su-Schrieffer-Heeger model</td>\n      <td>Stair brick-block</td>\n      <td>1.000000</td>\n      <td>2.267612e-14</td>\n      <td>1.000000</td>\n      <td>1.000000e+00</td>\n      <td>1.000000</td>\n      <td>1.595683e-14</td>\n      <td>1.000000</td>\n      <td>1.000000</td>\n    </tr>\n    <tr>\n      <th>27</th>\n      <td>4</td>\n      <td>Su-Schrieffer-Heeger model</td>\n      <td>Complete brick-block</td>\n      <td>1.000000</td>\n      <td>7.278328e-14</td>\n      <td>1.000000</td>\n      <td>1.000000e+00</td>\n      <td>1.000000</td>\n      <td>4.745681e-14</td>\n      <td>1.000000</td>\n      <td>1.000000</td>\n    </tr>\n    <tr>\n      <th>28</th>\n      <td>4</td>\n      <td>Su-Schrieffer-Heeger model</td>\n      <td>Ladder brick-block</td>\n      <td>1.000000</td>\n      <td>1.902657e-14</td>\n      <td>1.000000</td>\n      <td>1.000000e+00</td>\n      <td>1.000000</td>\n      <td>1.285978e-14</td>\n      <td>1.000000</td>\n      <td>1.000000</td>\n    </tr>\n    <tr>\n      <th>29</th>\n      <td>4</td>\n      <td>Su-Schrieffer-Heeger model</td>\n      <td>Cross-Ladder brick-block</td>\n      <td>1.000000</td>\n      <td>4.170447e-14</td>\n      <td>1.000000</td>\n      <td>1.000000e+00</td>\n      <td>1.000000</td>\n      <td>2.925835e-14</td>\n      <td>1.000000</td>\n      <td>1.000000</td>\n    </tr>\n    <tr>\n      <th>30</th>\n      <td>4</td>\n      <td>J1-J2 model</td>\n      <td>Hamiltonian</td>\n      <td>1.000000</td>\n      <td>3.769482e-14</td>\n      <td>1.000000</td>\n      <td>1.000000e+00</td>\n      <td>1.000000</td>\n      <td>2.625596e-14</td>\n      <td>1.000000</td>\n      <td>1.000000</td>\n    </tr>\n    <tr>\n      <th>31</th>\n      <td>4</td>\n      <td>J1-J2 model</td>\n      <td>Hardware-efficient</td>\n      <td>1.000000</td>\n      <td>1.069753e-13</td>\n      <td>1.000000</td>\n      <td>1.000000e+00</td>\n      <td>1.000000</td>\n      <td>7.577399e-14</td>\n      <td>1.000000</td>\n      <td>1.000000</td>\n    </tr>\n    <tr>\n      <th>32</th>\n      <td>4</td>\n      <td>J1-J2 model</td>\n      <td>Complete Hardware-efficient</td>\n      <td>1.000000</td>\n      <td>1.788610e-13</td>\n      <td>1.000000</td>\n      <td>1.000000e+00</td>\n      <td>1.000000</td>\n      <td>1.284793e-13</td>\n      <td>1.000000</td>\n      <td>1.000000</td>\n    </tr>\n    <tr>\n      <th>33</th>\n      <td>4</td>\n      <td>J1-J2 model</td>\n      <td>Ladder Hardware-efficient</td>\n      <td>0.331583</td>\n      <td>2.978608e-01</td>\n      <td>0.995690</td>\n      <td>1.857765e-06</td>\n      <td>0.500000</td>\n      <td>1.731841e-13</td>\n      <td>0.500000</td>\n      <td>0.500000</td>\n    </tr>\n    <tr>\n      <th>34</th>\n      <td>4</td>\n      <td>J1-J2 model</td>\n      <td>Cross-Ladder Hardware-efficient</td>\n      <td>1.000000</td>\n      <td>6.963513e-14</td>\n      <td>1.000000</td>\n      <td>1.000000e+00</td>\n      <td>1.000000</td>\n      <td>4.872243e-14</td>\n      <td>1.000000</td>\n      <td>1.000000</td>\n    </tr>\n    <tr>\n      <th>35</th>\n      <td>4</td>\n      <td>J1-J2 model</td>\n      <td>1D brick-block</td>\n      <td>1.000000</td>\n      <td>2.869131e-14</td>\n      <td>1.000000</td>\n      <td>1.000000e+00</td>\n      <td>1.000000</td>\n      <td>2.042688e-14</td>\n      <td>1.000000</td>\n      <td>1.000000</td>\n    </tr>\n    <tr>\n      <th>36</th>\n      <td>4</td>\n      <td>J1-J2 model</td>\n      <td>Stair brick-block</td>\n      <td>1.000000</td>\n      <td>2.540762e-14</td>\n      <td>1.000000</td>\n      <td>1.000000e+00</td>\n      <td>1.000000</td>\n      <td>1.721657e-14</td>\n      <td>1.000000</td>\n      <td>1.000000</td>\n    </tr>\n    <tr>\n      <th>37</th>\n      <td>4</td>\n      <td>J1-J2 model</td>\n      <td>Complete brick-block</td>\n      <td>1.000000</td>\n      <td>3.564017e-14</td>\n      <td>1.000000</td>\n      <td>1.000000e+00</td>\n      <td>1.000000</td>\n      <td>2.428805e-14</td>\n      <td>1.000000</td>\n      <td>1.000000</td>\n    </tr>\n    <tr>\n      <th>38</th>\n      <td>4</td>\n      <td>J1-J2 model</td>\n      <td>Ladder brick-block</td>\n      <td>1.000000</td>\n      <td>2.212674e-14</td>\n      <td>1.000000</td>\n      <td>1.000000e+00</td>\n      <td>1.000000</td>\n      <td>1.483362e-14</td>\n      <td>1.000000</td>\n      <td>1.000000</td>\n    </tr>\n    <tr>\n      <th>39</th>\n      <td>4</td>\n      <td>J1-J2 model</td>\n      <td>Cross-Ladder brick-block</td>\n      <td>1.000000</td>\n      <td>1.898576e-14</td>\n      <td>1.000000</td>\n      <td>1.000000e+00</td>\n      <td>1.000000</td>\n      <td>1.271387e-14</td>\n      <td>1.000000</td>\n      <td>1.000000</td>\n    </tr>\n    <tr>\n      <th>40</th>\n      <td>4</td>\n      <td>1D Hubbard model</td>\n      <td>Hamiltonian</td>\n      <td>1.000000</td>\n      <td>4.875284e-10</td>\n      <td>1.000000</td>\n      <td>1.000000e+00</td>\n      <td>1.000000</td>\n      <td>3.356342e-10</td>\n      <td>1.000000</td>\n      <td>1.000000</td>\n    </tr>\n    <tr>\n      <th>41</th>\n      <td>4</td>\n      <td>1D Hubbard model</td>\n      <td>Hardware-efficient</td>\n      <td>1.000000</td>\n      <td>3.471551e-11</td>\n      <td>1.000000</td>\n      <td>1.000000e+00</td>\n      <td>1.000000</td>\n      <td>2.503575e-11</td>\n      <td>1.000000</td>\n      <td>1.000000</td>\n    </tr>\n    <tr>\n      <th>42</th>\n      <td>4</td>\n      <td>1D Hubbard model</td>\n      <td>Complete Hardware-efficient</td>\n      <td>1.000000</td>\n      <td>3.544288e-11</td>\n      <td>1.000000</td>\n      <td>1.000000e+00</td>\n      <td>1.000000</td>\n      <td>2.416420e-11</td>\n      <td>1.000000</td>\n      <td>1.000000</td>\n    </tr>\n    <tr>\n      <th>43</th>\n      <td>4</td>\n      <td>1D Hubbard model</td>\n      <td>Ladder Hardware-efficient</td>\n      <td>1.000000</td>\n      <td>5.004394e-11</td>\n      <td>1.000000</td>\n      <td>1.000000e+00</td>\n      <td>0.985071</td>\n      <td>3.248005e-11</td>\n      <td>0.985071</td>\n      <td>0.985071</td>\n    </tr>\n    <tr>\n      <th>44</th>\n      <td>4</td>\n      <td>1D Hubbard model</td>\n      <td>Cross-Ladder Hardware-efficient</td>\n      <td>1.000000</td>\n      <td>1.686315e-11</td>\n      <td>1.000000</td>\n      <td>1.000000e+00</td>\n      <td>1.000000</td>\n      <td>9.871071e-12</td>\n      <td>1.000000</td>\n      <td>1.000000</td>\n    </tr>\n    <tr>\n      <th>45</th>\n      <td>4</td>\n      <td>1D Hubbard model</td>\n      <td>1D brick-block</td>\n      <td>1.000000</td>\n      <td>1.664714e-12</td>\n      <td>1.000000</td>\n      <td>1.000000e+00</td>\n      <td>1.000000</td>\n      <td>1.142078e-12</td>\n      <td>1.000000</td>\n      <td>1.000000</td>\n    </tr>\n    <tr>\n      <th>46</th>\n      <td>4</td>\n      <td>1D Hubbard model</td>\n      <td>Stair brick-block</td>\n      <td>1.000000</td>\n      <td>1.181620e-12</td>\n      <td>1.000000</td>\n      <td>1.000000e+00</td>\n      <td>1.000000</td>\n      <td>8.765514e-13</td>\n      <td>1.000000</td>\n      <td>1.000000</td>\n    </tr>\n    <tr>\n      <th>47</th>\n      <td>4</td>\n      <td>1D Hubbard model</td>\n      <td>Complete brick-block</td>\n      <td>1.000000</td>\n      <td>1.641550e-12</td>\n      <td>1.000000</td>\n      <td>1.000000e+00</td>\n      <td>1.000000</td>\n      <td>1.202372e-12</td>\n      <td>1.000000</td>\n      <td>1.000000</td>\n    </tr>\n    <tr>\n      <th>48</th>\n      <td>4</td>\n      <td>1D Hubbard model</td>\n      <td>Ladder brick-block</td>\n      <td>1.000000</td>\n      <td>3.913527e-12</td>\n      <td>1.000000</td>\n      <td>1.000000e+00</td>\n      <td>1.000000</td>\n      <td>2.673351e-12</td>\n      <td>1.000000</td>\n      <td>1.000000</td>\n    </tr>\n    <tr>\n      <th>49</th>\n      <td>4</td>\n      <td>1D Hubbard model</td>\n      <td>Cross-Ladder brick-block</td>\n      <td>1.000000</td>\n      <td>1.029247e-12</td>\n      <td>1.000000</td>\n      <td>1.000000e+00</td>\n      <td>1.000000</td>\n      <td>7.391395e-13</td>\n      <td>1.000000</td>\n      <td>1.000000</td>\n    </tr>\n  </tbody>\n</table>\n</div>"
     },
     "execution_count": 10,
     "metadata": {},
     "output_type": "execute_result"
    }
   ],
   "source": [
    "rows = []\n",
    "col = [\"qubit\", \"hamiltonian\", \"ansatz\", \"mean of fidelity each data\", \"std\", \"max\", \"min\",\n",
    "       \"mean of fidelity with ground state\", \"std\", \"max\", \"min\"]\n",
    "\n",
    "for hamiltonian_name in hamiltonian_names:\n",
    "    for ansatz_name in ansatz_names:\n",
    "        row = get_analysis_info(df=df.copy(), hamiltonian_name=hamiltonian_name, qubit=n_qubit, ansatz_name=ansatz_name)\n",
    "        rows.append(row)\n",
    "df2 = pd.DataFrame(rows, columns=col)\n",
    "df2"
   ],
   "metadata": {
    "collapsed": false
   }
  },
  {
   "cell_type": "markdown",
   "source": [
    "## data grouped by label"
   ],
   "metadata": {
    "collapsed": false
   }
  },
  {
   "cell_type": "code",
   "execution_count": 11,
   "outputs": [
    {
     "data": {
      "text/plain": "   qubit                      hamiltonian  mean of fidelity each data  \\\n0      4  1D transverse-field Ising model                    0.999788   \n1      4              1D Heisenberg model                    1.000000   \n2      4       Su-Schrieffer-Heeger model                    0.903144   \n3      4                      J1-J2 model                    0.903216   \n4      4                 1D Hubbard model                    0.997304   \n\n            std  max           min  mean of fidelity with ground state  \\\n0  4.506716e-04  1.0  9.988269e-01                            0.999883   \n1  2.181744e-12  1.0  1.000000e+00                            1.000000   \n2  2.025903e-01  1.0  4.843456e-07                            0.950000   \n3  2.024282e-01  1.0  1.857765e-06                            0.950000   \n4  5.742913e-03  1.0  9.850709e-01                            0.998507   \n\n            std  max       min  \n0  3.514560e-04  1.0  0.998828  \n1  1.516597e-12  1.0  1.000000  \n2  1.500000e-01  1.0  0.500000  \n3  1.500000e-01  1.0  0.500000  \n4  4.478625e-03  1.0  0.985071  ",
      "text/html": "<div>\n<style scoped>\n    .dataframe tbody tr th:only-of-type {\n        vertical-align: middle;\n    }\n\n    .dataframe tbody tr th {\n        vertical-align: top;\n    }\n\n    .dataframe thead th {\n        text-align: right;\n    }\n</style>\n<table border=\"1\" class=\"dataframe\">\n  <thead>\n    <tr style=\"text-align: right;\">\n      <th></th>\n      <th>qubit</th>\n      <th>hamiltonian</th>\n      <th>mean of fidelity each data</th>\n      <th>std</th>\n      <th>max</th>\n      <th>min</th>\n      <th>mean of fidelity with ground state</th>\n      <th>std</th>\n      <th>max</th>\n      <th>min</th>\n    </tr>\n  </thead>\n  <tbody>\n    <tr>\n      <th>0</th>\n      <td>4</td>\n      <td>1D transverse-field Ising model</td>\n      <td>0.999788</td>\n      <td>4.506716e-04</td>\n      <td>1.0</td>\n      <td>9.988269e-01</td>\n      <td>0.999883</td>\n      <td>3.514560e-04</td>\n      <td>1.0</td>\n      <td>0.998828</td>\n    </tr>\n    <tr>\n      <th>1</th>\n      <td>4</td>\n      <td>1D Heisenberg model</td>\n      <td>1.000000</td>\n      <td>2.181744e-12</td>\n      <td>1.0</td>\n      <td>1.000000e+00</td>\n      <td>1.000000</td>\n      <td>1.516597e-12</td>\n      <td>1.0</td>\n      <td>1.000000</td>\n    </tr>\n    <tr>\n      <th>2</th>\n      <td>4</td>\n      <td>Su-Schrieffer-Heeger model</td>\n      <td>0.903144</td>\n      <td>2.025903e-01</td>\n      <td>1.0</td>\n      <td>4.843456e-07</td>\n      <td>0.950000</td>\n      <td>1.500000e-01</td>\n      <td>1.0</td>\n      <td>0.500000</td>\n    </tr>\n    <tr>\n      <th>3</th>\n      <td>4</td>\n      <td>J1-J2 model</td>\n      <td>0.903216</td>\n      <td>2.024282e-01</td>\n      <td>1.0</td>\n      <td>1.857765e-06</td>\n      <td>0.950000</td>\n      <td>1.500000e-01</td>\n      <td>1.0</td>\n      <td>0.500000</td>\n    </tr>\n    <tr>\n      <th>4</th>\n      <td>4</td>\n      <td>1D Hubbard model</td>\n      <td>0.997304</td>\n      <td>5.742913e-03</td>\n      <td>1.0</td>\n      <td>9.850709e-01</td>\n      <td>0.998507</td>\n      <td>4.478625e-03</td>\n      <td>1.0</td>\n      <td>0.985071</td>\n    </tr>\n  </tbody>\n</table>\n</div>"
     },
     "execution_count": 11,
     "metadata": {},
     "output_type": "execute_result"
    }
   ],
   "source": [
    "rows = []\n",
    "col = [\"qubit\", \"hamiltonian\", \"mean of fidelity each data\", \"std\", \"max\", \"min\",\n",
    "       \"mean of fidelity with ground state\", \"std\", \"max\", \"min\"]\n",
    "for hamiltonian_name in hamiltonian_names:\n",
    "    row = get_analysis_info(df=df.copy(), hamiltonian_name=hamiltonian_name, qubit=n_qubit)\n",
    "    rows.append(row)\n",
    "df3 = pd.DataFrame(rows, columns=col)\n",
    "df3"
   ],
   "metadata": {
    "collapsed": false
   }
  },
  {
   "cell_type": "code",
   "execution_count": 11,
   "outputs": [],
   "source": [],
   "metadata": {
    "collapsed": false
   }
  }
 ],
 "metadata": {
  "kernelspec": {
   "display_name": "Python 3",
   "language": "python",
   "name": "python3"
  },
  "language_info": {
   "codemirror_mode": {
    "name": "ipython",
    "version": 2
   },
   "file_extension": ".py",
   "mimetype": "text/x-python",
   "name": "python",
   "nbconvert_exporter": "python",
   "pygments_lexer": "ipython2",
   "version": "2.7.6"
  }
 },
 "nbformat": 4,
 "nbformat_minor": 0
}
